{
 "cells": [
  {
   "cell_type": "markdown",
   "metadata": {},
   "source": [
    "### 第8天：TensorFlow2构建数据管道—Pandas DataFrame格式\n",
    "\n",
    "\n",
    "**涉及到的知识点：**\n",
    "\n",
    " + 特征列的处理\n",
    "\n",
    " + 类别不均衡样本的处理\n",
    " \n",
    " + 自定义成本、评估函数"
   ]
  },
  {
   "cell_type": "markdown",
   "metadata": {},
   "source": [
    "### <font color=#0099ff size=4 face=\"微软雅黑\">实例：心脏病患者诊断</font>\n",
    "\n",
    "数据集说明：\n",
    "+ 该文件有303行，一行表示一个病人的特征数据；\n",
    "+ 每个病人有14个特征，其中13个数据特征，分别是：age、sex、cp、trestbps、chol、fbs、restecg、thalach、exang、oldpeak、slope、ca、thal；1个目标特征target；\n",
    "+ 特征说明\n",
    "\n",
    "    + **连续数据特征**\n",
    "      + age（年龄）\n",
    "      + trestbps（静息血压）\n",
    "      + chol（血清类固醇）\n",
    "      + thalach（最大心率）\n",
    "      + oldpeak（运动诱导的ST段下降）\n",
    "      + ca（荧光透视法染色的大血管动脉的数量）\n",
    "\n",
    "    + **离散数据特征**\n",
    "      + sex（性别）： 1--男；0--女；\n",
    "      + cp（胸部疼痛的类型）：0；1；2；3；4；\n",
    "      + fbs（空腹血糖）：1--大于120mg/dl；0--不大于120mg/dl；\n",
    "      + restecg（静息心电图结果）：0--正常；1--有ST-T波异常；2--左心室肥厚；\n",
    "      + exang（运动诱发心绞痛）：1--是；0--否；\n",
    "      + slope（运动高峰期的ST段斜率）：1--上斜；2--水平；\n",
    "      + thal（地中海贫血基因）：normal--正常；fixed--固有缺陷； reversible--可修复缺陷；\n",
    "\n",
    "    + **目标特征**\n",
    "      + **target—心脏病**：0--未患病；1--患病；"
   ]
  },
  {
   "cell_type": "code",
   "execution_count": 1,
   "metadata": {},
   "outputs": [
    {
     "name": "stdout",
     "output_type": "stream",
     "text": [
      "tensorflow版本： 2.1.0\n"
     ]
    }
   ],
   "source": [
    "import tensorflow as tf\n",
    "import numpy as np\n",
    "import pandas as pd\n",
    "from matplotlib import pyplot as plt\n",
    "plt.rcParams['font.family'] = 'Arial Unicode MS' \n",
    "plt.rcParams['axes.unicode_minus']=False\n",
    "from tensorflow import feature_column\n",
    "import os\n",
    "from sklearn.metrics import roc_curve\n",
    "import seaborn as sns\n",
    "print('tensorflow版本：', tf.__version__)"
   ]
  },
  {
   "cell_type": "markdown",
   "metadata": {},
   "source": [
    "### 1、数据获取"
   ]
  },
  {
   "cell_type": "code",
   "execution_count": 2,
   "metadata": {},
   "outputs": [
    {
     "name": "stdout",
     "output_type": "stream",
     "text": [
      "Downloading data from https://storage.googleapis.com/applied-dl/heart.csv\n",
      "16384/13273 [=====================================] - 0s 4us/step\n"
     ]
    }
   ],
   "source": [
    "# 这个数据集的网址\n",
    "Data_Url_Heart = 'https://storage.googleapis.com/applied-dl/heart.csv'\n",
    "# 文件下载到给定的路径\n",
    "Path_Heart = tf.keras.utils.get_file(r'C:\\tf\\heart.csv', Data_Url_Heart)"
   ]
  },
  {
   "cell_type": "markdown",
   "metadata": {},
   "source": [
    "### 2、Pandas DataFrame格式"
   ]
  },
  {
   "cell_type": "code",
   "execution_count": 3,
   "metadata": {},
   "outputs": [
    {
     "data": {
      "text/html": [
       "<div>\n",
       "<style scoped>\n",
       "    .dataframe tbody tr th:only-of-type {\n",
       "        vertical-align: middle;\n",
       "    }\n",
       "\n",
       "    .dataframe tbody tr th {\n",
       "        vertical-align: top;\n",
       "    }\n",
       "\n",
       "    .dataframe thead th {\n",
       "        text-align: right;\n",
       "    }\n",
       "</style>\n",
       "<table border=\"1\" class=\"dataframe\">\n",
       "  <thead>\n",
       "    <tr style=\"text-align: right;\">\n",
       "      <th></th>\n",
       "      <th>age</th>\n",
       "      <th>sex</th>\n",
       "      <th>cp</th>\n",
       "      <th>trestbps</th>\n",
       "      <th>chol</th>\n",
       "      <th>fbs</th>\n",
       "      <th>restecg</th>\n",
       "      <th>thalach</th>\n",
       "      <th>exang</th>\n",
       "      <th>oldpeak</th>\n",
       "      <th>slope</th>\n",
       "      <th>ca</th>\n",
       "      <th>thal</th>\n",
       "      <th>target</th>\n",
       "    </tr>\n",
       "  </thead>\n",
       "  <tbody>\n",
       "    <tr>\n",
       "      <th>0</th>\n",
       "      <td>63</td>\n",
       "      <td>1</td>\n",
       "      <td>1</td>\n",
       "      <td>145</td>\n",
       "      <td>233</td>\n",
       "      <td>1</td>\n",
       "      <td>2</td>\n",
       "      <td>150</td>\n",
       "      <td>0</td>\n",
       "      <td>2.3</td>\n",
       "      <td>3</td>\n",
       "      <td>0</td>\n",
       "      <td>fixed</td>\n",
       "      <td>0</td>\n",
       "    </tr>\n",
       "    <tr>\n",
       "      <th>1</th>\n",
       "      <td>67</td>\n",
       "      <td>1</td>\n",
       "      <td>4</td>\n",
       "      <td>160</td>\n",
       "      <td>286</td>\n",
       "      <td>0</td>\n",
       "      <td>2</td>\n",
       "      <td>108</td>\n",
       "      <td>1</td>\n",
       "      <td>1.5</td>\n",
       "      <td>2</td>\n",
       "      <td>3</td>\n",
       "      <td>normal</td>\n",
       "      <td>1</td>\n",
       "    </tr>\n",
       "    <tr>\n",
       "      <th>2</th>\n",
       "      <td>67</td>\n",
       "      <td>1</td>\n",
       "      <td>4</td>\n",
       "      <td>120</td>\n",
       "      <td>229</td>\n",
       "      <td>0</td>\n",
       "      <td>2</td>\n",
       "      <td>129</td>\n",
       "      <td>1</td>\n",
       "      <td>2.6</td>\n",
       "      <td>2</td>\n",
       "      <td>2</td>\n",
       "      <td>reversible</td>\n",
       "      <td>0</td>\n",
       "    </tr>\n",
       "  </tbody>\n",
       "</table>\n",
       "</div>"
      ],
      "text/plain": [
       "   age  sex  cp  trestbps  chol  fbs  restecg  thalach  exang  oldpeak  slope  \\\n",
       "0   63    1   1       145   233    1        2      150      0      2.3      3   \n",
       "1   67    1   4       160   286    0        2      108      1      1.5      2   \n",
       "2   67    1   4       120   229    0        2      129      1      2.6      2   \n",
       "\n",
       "   ca        thal  target  \n",
       "0   0       fixed       0  \n",
       "1   3      normal       1  \n",
       "2   2  reversible       0  "
      ]
     },
     "execution_count": 3,
     "metadata": {},
     "output_type": "execute_result"
    }
   ],
   "source": [
    "# Pandas 的DataFrame格式\n",
    "df_data = pd.read_csv(Path_Heart)\n",
    "df_data.head(n=3) "
   ]
  },
  {
   "cell_type": "markdown",
   "metadata": {},
   "source": [
    "### 3、数据预处理"
   ]
  },
  {
   "cell_type": "markdown",
   "metadata": {},
   "source": [
    "#### 3.1 缺失值"
   ]
  },
  {
   "cell_type": "code",
   "execution_count": 4,
   "metadata": {},
   "outputs": [
    {
     "data": {
      "text/plain": [
       "age         0\n",
       "sex         0\n",
       "cp          0\n",
       "trestbps    0\n",
       "chol        0\n",
       "fbs         0\n",
       "restecg     0\n",
       "thalach     0\n",
       "exang       0\n",
       "oldpeak     0\n",
       "slope       0\n",
       "ca          0\n",
       "thal        0\n",
       "target      0\n",
       "dtype: int64"
      ]
     },
     "execution_count": 4,
     "metadata": {},
     "output_type": "execute_result"
    }
   ],
   "source": [
    "# 判断是否缺失值\n",
    "df_data.isna().sum()"
   ]
  },
  {
   "cell_type": "markdown",
   "metadata": {},
   "source": [
    "#### 3.2 异常值"
   ]
  },
  {
   "cell_type": "code",
   "execution_count": 5,
   "metadata": {},
   "outputs": [],
   "source": [
    "# thal列中有一个值为1和值为2的，判定为异常值，在数据中删除这2条数据\n",
    "a1 = list(df_data[df_data['thal'].values == '1'].index.values)\n",
    "a2 = list(df_data[df_data['thal'].values == '2'].index.values)\n",
    "del_df_data = df_data.drop(a1 + a2)"
   ]
  },
  {
   "cell_type": "markdown",
   "metadata": {},
   "source": [
    "#### 3.3  更改数据类型"
   ]
  },
  {
   "cell_type": "markdown",
   "metadata": {},
   "source": [
    "根据特征表示的意义更改相应列的数据类型。"
   ]
  },
  {
   "cell_type": "code",
   "execution_count": 6,
   "metadata": {},
   "outputs": [],
   "source": [
    "for k in ['sex', 'cp', 'fbs', 'restecg', 'exang', 'slope', 'thal']:\n",
    "    del_df_data[k] = ['%s' % f for f in del_df_data[k].values]\n",
    "    "
   ]
  },
  {
   "cell_type": "code",
   "execution_count": 7,
   "metadata": {},
   "outputs": [
    {
     "name": "stdout",
     "output_type": "stream",
     "text": [
      "<class 'pandas.core.frame.DataFrame'>\n",
      "Int64Index: 301 entries, 0 to 302\n",
      "Data columns (total 14 columns):\n",
      " #   Column    Non-Null Count  Dtype  \n",
      "---  ------    --------------  -----  \n",
      " 0   age       301 non-null    int64  \n",
      " 1   sex       301 non-null    object \n",
      " 2   cp        301 non-null    object \n",
      " 3   trestbps  301 non-null    int64  \n",
      " 4   chol      301 non-null    int64  \n",
      " 5   fbs       301 non-null    object \n",
      " 6   restecg   301 non-null    object \n",
      " 7   thalach   301 non-null    int64  \n",
      " 8   exang     301 non-null    object \n",
      " 9   oldpeak   301 non-null    float64\n",
      " 10  slope     301 non-null    object \n",
      " 11  ca        301 non-null    int64  \n",
      " 12  thal      301 non-null    object \n",
      " 13  target    301 non-null    int64  \n",
      "dtypes: float64(1), int64(6), object(7)\n",
      "memory usage: 35.3+ KB\n"
     ]
    }
   ],
   "source": [
    "# 查看数据类型\n",
    "del_df_data.info()"
   ]
  },
  {
   "cell_type": "markdown",
   "metadata": {},
   "source": [
    "### 4、构建数据管道\n",
    "\n",
    "对于分类问题首先要查看数据集中各个类别占的比例。"
   ]
  },
  {
   "cell_type": "code",
   "execution_count": 8,
   "metadata": {},
   "outputs": [
    {
     "name": "stdout",
     "output_type": "stream",
     "text": [
      "0:218  1: 83  \n"
     ]
    }
   ],
   "source": [
    "def judge(dataset, name='target'):\n",
    "    str_s = ''\n",
    "    data_v = dataset[name].unique()\n",
    "    cvalues = dataset[name].values\n",
    "    for ji in data_v:\n",
    "        str_s += '%s:%3d  ' % (ji, list(cvalues).count(ji))\n",
    "    return str_s\n",
    "print(judge(del_df_data))"
   ]
  },
  {
   "cell_type": "markdown",
   "metadata": {},
   "source": [
    "因为本数据集类别不均衡，因此分割数据集时尽量保证每个数据集中的类别比例相近。"
   ]
  },
  {
   "cell_type": "code",
   "execution_count": 9,
   "metadata": {},
   "outputs": [
    {
     "name": "stdout",
     "output_type": "stream",
     "text": [
      "训练数据 条数:213 其中0:154  1: 59  \n",
      "验证数据 条数: 47 其中0: 34  1: 13  \n",
      "测试数据 条数: 41 其中0: 30  1: 11  \n"
     ]
    }
   ],
   "source": [
    "# 分割数据集:split_p列表形式，第一个为验证数据集的比例，第二个为测试数据集的比例，\n",
    "# 有第二个比例，数据集分成训练、验证、测试，没有的话分割为训练和验证(测试)\n",
    "def split_data(data, split_p=[0.16, 0.14], name='target'):\n",
    "    class_value = data[name].unique()\n",
    "    dict_data = {}\n",
    "    for c in class_value:\n",
    "        dict_data[c] = {}\n",
    "        data_c = data[data[name]==c].copy()\n",
    "        # 获取索引号\n",
    "        index_list = list(data_c.index)\n",
    "        # 随机打乱数据\n",
    "        np.random.shuffle(index_list)\n",
    "        start_n = 0\n",
    "        split_cp = split_p + [1-sum(split_p)]\n",
    "        for kk, value in enumerate(split_cp):\n",
    "            if kk != len(split_p):\n",
    "                count = int(len(data_c) * value)\n",
    "                # 行号\n",
    "                hang = index_list[start_n:(start_n + count)]\n",
    "                start_n += count\n",
    "            else:\n",
    "                hang = index_list[start_n:]\n",
    "            dict_data[c][kk] = data_c.loc[hang]\n",
    " \n",
    "    # 分割的数据集，不同类的集成在一起\n",
    "    cc = []\n",
    "    for kkd in range(len(split_p), -1, -1):\n",
    "        data_f = pd.DataFrame()\n",
    "        for ke in dict_data:\n",
    "            data_f = pd.concat([data_f, dict_data[ke][kkd]],axis=0)\n",
    "        cc.append(data_f)\n",
    "    \n",
    "    if len(split_p) == 1:\n",
    "        train, val = cc\n",
    "        return train, val\n",
    "    elif len(split_p) == 2:\n",
    "        train, test, val= cc\n",
    "        return train, test, val\n",
    "    else:\n",
    "        return cc\n",
    "      \n",
    "train, test, val = split_data(del_df_data)\n",
    "\n",
    "print('训练数据 条数:%3d' % len(train), '其中%s' % (judge(train)))\n",
    "print('验证数据 条数:%3d' % len(val), '其中%s' % (judge(val)))\n",
    "print('测试数据 条数:%3d' % len(test), '其中%s' % (judge(test)))"
   ]
  },
  {
   "cell_type": "markdown",
   "metadata": {},
   "source": [
    "Pandas DataFrame格式的数据利用tf.data转变为数据管道的形式。"
   ]
  },
  {
   "cell_type": "code",
   "execution_count": 10,
   "metadata": {},
   "outputs": [],
   "source": [
    "def df_to_dataset(dataframe, shuffle=True, batch_size=32, name='target'):\n",
    "    dataframe = dataframe.copy()\n",
    "    labels = dataframe.pop(name)\n",
    "    ds = tf.data.Dataset.from_tensor_slices((dict(dataframe), labels))\n",
    "    if shuffle:\n",
    "        ds = ds.shuffle(buffer_size=len(dataframe))\n",
    "    ds = ds.batch(batch_size)\n",
    "    return ds"
   ]
  },
  {
   "cell_type": "markdown",
   "metadata": {},
   "source": [
    "训练、验证、测试数据集分别转变为数据管道的形式，注意训练数据需要打乱顺序。"
   ]
  },
  {
   "cell_type": "code",
   "execution_count": 11,
   "metadata": {},
   "outputs": [],
   "source": [
    "batch_size = 6 # 这个数设置的较小，主要是为了后面进行特征列的处理时，展示方便\n",
    "train_ds = df_to_dataset(train, batch_size=batch_size)\n",
    "val_ds = df_to_dataset(val, shuffle=False, batch_size=batch_size)\n",
    "test_ds = df_to_dataset(test, shuffle=False, batch_size=batch_size)"
   ]
  },
  {
   "cell_type": "markdown",
   "metadata": {},
   "source": [
    "### 5、特征列处理\n",
    "\n",
    "   如果建立的是基于树的模型，不进行特征列处理也是可以的，因为树模型是能够处理离散变量和连续变量特征的。如果建立的是非树模型，则必须对字符串形式的特征以及离散特征进行处理。本文建立的是MLP模型，因此需要进行特征列的处理。\n",
    "   \n",
    "   下面展示不同列的处理方式，并展示处理前后数据变化的对比。"
   ]
  },
  {
   "cell_type": "code",
   "execution_count": 12,
   "metadata": {},
   "outputs": [],
   "source": [
    "# 使用数据通道中的第一批数据来演示处理列的不同方式\n",
    "example_batch = next(iter(train_ds))[0]\n",
    "#  将处理后的列的结果展示出来\n",
    "def demo(feature_column):\n",
    "    feature_layer = tf.keras.layers.DenseFeatures(feature_column)\n",
    "    print(feature_layer(example_batch).numpy())"
   ]
  },
  {
   "cell_type": "markdown",
   "metadata": {},
   "source": [
    "### 5.1 离散特征\n",
    "列值表示类别，通常的处理方式是独热化编码，对于类别较多的情况，独热化编码会导致列过多，此时可以使用嵌入列或者哈希列。例子：thal、sex、cp、fbs、restecg、exang、slope"
   ]
  },
  {
   "cell_type": "markdown",
   "metadata": {},
   "source": [
    "**（1）独热编码：特征thal**\n",
    "\n",
    "就是将特征列中的不重复的值的个数作为向量的长度，向量的元素均为0。也就是每个类别都对应这个向量中的一个位置。如果某样本数据中该特征的类别为c，则向量中对应类别c的位置的数字变为1，其他的依然是0。具体看下面示例："
   ]
  },
  {
   "cell_type": "code",
   "execution_count": 13,
   "metadata": {},
   "outputs": [
    {
     "data": {
      "text/plain": [
       "array([b'reversible', b'normal', b'normal', b'normal', b'reversible',\n",
       "       b'normal'], dtype=object)"
      ]
     },
     "execution_count": 13,
     "metadata": {},
     "output_type": "execute_result"
    }
   ],
   "source": [
    "# 原始数据\n",
    "example_batch['thal'].numpy()"
   ]
  },
  {
   "cell_type": "code",
   "execution_count": 58,
   "metadata": {},
   "outputs": [
    {
     "name": "stdout",
     "output_type": "stream",
     "text": [
      "[[0. 0. 1.]\n",
      " [0. 1. 0.]\n",
      " [0. 1. 0.]\n",
      " [0. 1. 0.]\n",
      " [0. 0. 1.]\n",
      " [0. 1. 0.]]\n"
     ]
    }
   ],
   "source": [
    "# 独热编码后的数据\n",
    "thal = feature_column.categorical_column_with_vocabulary_list('thal', ['fixed', 'normal', 'reversible'])\n",
    "thal_one_hot = feature_column.indicator_column(thal)\n",
    "demo(thal_one_hot)"
   ]
  },
  {
   "cell_type": "markdown",
   "metadata": {},
   "source": [
    "**（2）嵌入列：特征cp**\n",
    "\n",
    "也就是用长度更少的向量来描述不同的类别。例如下面例子中，若用独热编码，则类别对应的向量长度需要为5，而采用嵌入列，长度为2即可。注意嵌入列的结果每次运行都会变化。"
   ]
  },
  {
   "cell_type": "code",
   "execution_count": 15,
   "metadata": {},
   "outputs": [
    {
     "data": {
      "text/plain": [
       "array([b'3', b'4', b'3', b'3', b'4', b'3'], dtype=object)"
      ]
     },
     "execution_count": 15,
     "metadata": {},
     "output_type": "execute_result"
    }
   ],
   "source": [
    "# 原始数据\n",
    "example_batch['cp'].numpy()"
   ]
  },
  {
   "cell_type": "code",
   "execution_count": 16,
   "metadata": {},
   "outputs": [
    {
     "name": "stdout",
     "output_type": "stream",
     "text": [
      "[[-0.4458764   0.13114235]\n",
      " [-0.18212312 -0.4205882 ]\n",
      " [-0.4458764   0.13114235]\n",
      " [-0.4458764   0.13114235]\n",
      " [-0.18212312 -0.4205882 ]\n",
      " [-0.4458764   0.13114235]]\n"
     ]
    }
   ],
   "source": [
    "#  嵌入列后的数据\n",
    "cp = feature_column.categorical_column_with_vocabulary_list('cp', ['0', '1', '2', '3', '4'])\n",
    "cp_embedding = feature_column.embedding_column(cp, dimension=2)  # dimension属于可调节的参数\n",
    "demo(cp_embedding)"
   ]
  },
  {
   "cell_type": "markdown",
   "metadata": {},
   "source": [
    "**（3）哈希列：特征cp**\n",
    "\n",
    "会导致不同的类别映射的结果是一样的。"
   ]
  },
  {
   "cell_type": "code",
   "execution_count": 17,
   "metadata": {},
   "outputs": [
    {
     "data": {
      "text/plain": [
       "<tf.Tensor: shape=(6,), dtype=string, numpy=array([b'3', b'4', b'3', b'3', b'4', b'3'], dtype=object)>"
      ]
     },
     "execution_count": 17,
     "metadata": {},
     "output_type": "execute_result"
    }
   ],
   "source": [
    "# 原始数据\n",
    "example_batch['cp']"
   ]
  },
  {
   "cell_type": "code",
   "execution_count": 59,
   "metadata": {},
   "outputs": [
    {
     "name": "stdout",
     "output_type": "stream",
     "text": [
      "[[1. 0. 0.]\n",
      " [0. 0. 1.]\n",
      " [1. 0. 0.]\n",
      " [1. 0. 0.]\n",
      " [0. 0. 1.]\n",
      " [1. 0. 0.]]\n"
     ]
    }
   ],
   "source": [
    "# 经过哈希处理后的数据\n",
    "cp_hashed = feature_column.categorical_column_with_hash_bucket('cp', hash_bucket_size=3)\n",
    "demo(feature_column.indicator_column(cp_hashed))"
   ]
  },
  {
   "cell_type": "markdown",
   "metadata": {},
   "source": [
    "### 5.2 连续特征\n",
    "\n",
    "列值表示量，通常的处理方式有标准化、归一化、分桶，前面2种变换后依然是连续变量，分桶就是将连续特征变为独热化的类别特征。例子：age、trestbps、chol、thalach、ca、oldpeak等。如果对于某列而言，如果不同的量的个数较少，也可以视为类别，例如ca。"
   ]
  },
  {
   "cell_type": "markdown",
   "metadata": {},
   "source": [
    "**（1）分桶：特征age**\n",
    "\n",
    "对于连续的变量，根据给定的多个边界值，将原来的连读数值对应到相应的类别中，返回的是独热化后的数据。"
   ]
  },
  {
   "cell_type": "code",
   "execution_count": 19,
   "metadata": {},
   "outputs": [
    {
     "name": "stdout",
     "output_type": "stream",
     "text": [
      "[[62.]\n",
      " [63.]\n",
      " [53.]\n",
      " [39.]\n",
      " [50.]\n",
      " [67.]]\n"
     ]
    }
   ],
   "source": [
    "# 原始数据\n",
    "age = feature_column.numeric_column('age')\n",
    "demo(age)"
   ]
  },
  {
   "cell_type": "code",
   "execution_count": 20,
   "metadata": {},
   "outputs": [
    {
     "name": "stdout",
     "output_type": "stream",
     "text": [
      "[[0. 0. 0. 0. 0. 1. 0.]\n",
      " [0. 0. 0. 0. 0. 1. 0.]\n",
      " [0. 0. 0. 0. 1. 0. 0.]\n",
      " [0. 0. 1. 0. 0. 0. 0.]\n",
      " [0. 0. 0. 0. 1. 0. 0.]\n",
      " [0. 0. 0. 0. 0. 1. 0.]]\n"
     ]
    }
   ],
   "source": [
    "# 分桶后的数据\n",
    "age_buckets = feature_column.bucketized_column(age, boundaries=[20, 30, 40, 50, 60, 70])\n",
    "demo(age_buckets)"
   ]
  },
  {
   "cell_type": "markdown",
   "metadata": {},
   "source": [
    "**（2）归一化：特征oldpeak**"
   ]
  },
  {
   "cell_type": "markdown",
   "metadata": {},
   "source": [
    "将数据归一化到[0, 1]之间，这个区间可以自定义。"
   ]
  },
  {
   "cell_type": "code",
   "execution_count": 21,
   "metadata": {},
   "outputs": [
    {
     "data": {
      "text/plain": [
       "<tf.Tensor: shape=(6,), dtype=float32, numpy=array([1.2, 1.8, 1.2, 0. , 2.6, 0. ], dtype=float32)>"
      ]
     },
     "execution_count": 21,
     "metadata": {},
     "output_type": "execute_result"
    }
   ],
   "source": [
    "# 原始数据\n",
    "example_batch['oldpeak']\n"
   ]
  },
  {
   "cell_type": "code",
   "execution_count": 22,
   "metadata": {},
   "outputs": [
    {
     "name": "stdout",
     "output_type": "stream",
     "text": [
      "[[0.21428573]\n",
      " [0.32142857]\n",
      " [0.21428573]\n",
      " [0.        ]\n",
      " [0.4642857 ]\n",
      " [0.        ]]\n"
     ]
    }
   ],
   "source": [
    "# 数据归一化\n",
    "oldpeak = feature_column.numeric_column('oldpeak', normalizer_fn=lambda x: x / 5.6)\n",
    "demo(oldpeak)"
   ]
  },
  {
   "cell_type": "markdown",
   "metadata": {},
   "source": [
    "### 6、特征选择"
   ]
  },
  {
   "cell_type": "code",
   "execution_count": 23,
   "metadata": {},
   "outputs": [],
   "source": [
    "# 进行独热化的离散特征\n",
    "CATEGORICAL_COLUMNS_ONEHOT = ['sex', 'fbs', 'restecg', 'exang', 'slope', 'thal']\n",
    "# 进行嵌入列的离散特征\n",
    "CATEGORICAL_COLUMNS_EMBED = ['cp']\n",
    "# 归一化特征\n",
    "NUMERIC_COLUMNS_NORM = ['trestbps', 'chol', 'thalach', 'oldpeak', 'ca']\n",
    "# 分通化特征\n",
    "NUMERIC_COLUMNS_BUCKET = ['age']\n",
    "\n",
    "\n",
    "# 独热化编码\n",
    "def one_hot_cat_column(feature_name, vocab):\n",
    "    return tf.feature_column.indicator_column(\n",
    "        tf.feature_column.categorical_column_with_vocabulary_list(feature_name, vocab))\n",
    "# 嵌入列编码\n",
    "def embedding_cat_column(feature_name, vocab, d=2):\n",
    "    return tf.feature_column.embedding_column(\n",
    "        tf.feature_column.categorical_column_with_vocabulary_list(feature_name, vocab), dimension=2)\n",
    "\n",
    "# 获取特征最大最小值的字典：归一化需要\n",
    "def get_mm(data, cu=NUMERIC_COLUMNS_NORM):\n",
    "    du_dict = {}\n",
    "    for k in cu:\n",
    "        data_v = data[k].values\n",
    "        max_n = max(data_v)\n",
    "        min_n = min(data_v)\n",
    "        du_dict[k] = [max_n, min_n]\n",
    "    return du_dict\n",
    "DU_DICT = get_mm(del_df_data)\n",
    "# 归一化编码\n",
    "def norm_num_column(feature_name, di=DU_DICT):\n",
    "    max_n, min_n = di[feature_name]\n",
    "    return feature_column.numeric_column(feature_name, normalizer_fn=lambda x: (x - min_n) / (max_n - min_n))\n",
    "\n",
    "# 获取分桶化特征需要的最大最小值字典\n",
    "BUCK_DICT = get_mm(del_df_data, NUMERIC_COLUMNS_BUCKET)\n",
    "# 分桶化编码\n",
    "def buck_num_column(feature_name, count=5, di=BUCK_DICT):\n",
    "    max_n, min_n = di[feature_name]\n",
    "    # 界限列表\n",
    "    b_list = list(np.linspace(min_n, max_n, count+2))\n",
    "    return feature_column.bucketized_column(feature_column.numeric_column(feature_name), boundaries=b_list[1:-1])\n"
   ]
  },
  {
   "cell_type": "markdown",
   "metadata": {},
   "source": [
    "添加经过处理后的列，下面的feature_columns相当于一个规则集，每个元素表示对每个特征如何进行处理。"
   ]
  },
  {
   "cell_type": "code",
   "execution_count": 24,
   "metadata": {},
   "outputs": [],
   "source": [
    "# 特征的规则集\n",
    "feature_columns = []\n",
    "\n",
    "# 保证特征的顺序\n",
    "feature_list = list(del_df_data.keys())[:-1]# 不包括target\n",
    "for kk in feature_list: \n",
    "    # 需要归一化\n",
    "    if kk in NUMERIC_COLUMNS_NORM:\n",
    "        feature_columns.append(norm_num_column(kk))\n",
    "    # 需要分通化\n",
    "    elif kk in NUMERIC_COLUMNS_BUCKET:\n",
    "        feature_columns.append(buck_num_column(kk))\n",
    "    # 需要独热化\n",
    "    elif kk in CATEGORICAL_COLUMNS_ONEHOT:\n",
    "        name_va = sorted(del_df_data[kk].unique())\n",
    "        feature_columns.append(one_hot_cat_column(kk, name_va))\n",
    "\n",
    "    # 需要嵌入\n",
    "    elif kk in CATEGORICAL_COLUMNS_EMBED:\n",
    "        name_va = sorted(del_df_data[kk].unique())\n",
    "        feature_columns.append(embedding_cat_column(kk, name_va))"
   ]
  },
  {
   "cell_type": "markdown",
   "metadata": {},
   "source": [
    "下面进行数据转换前后的对比展示"
   ]
  },
  {
   "cell_type": "code",
   "execution_count": 25,
   "metadata": {
    "scrolled": false
   },
   "outputs": [
    {
     "data": {
      "text/html": [
       "<div>\n",
       "<style scoped>\n",
       "    .dataframe tbody tr th:only-of-type {\n",
       "        vertical-align: middle;\n",
       "    }\n",
       "\n",
       "    .dataframe tbody tr th {\n",
       "        vertical-align: top;\n",
       "    }\n",
       "\n",
       "    .dataframe thead th {\n",
       "        text-align: right;\n",
       "    }\n",
       "</style>\n",
       "<table border=\"1\" class=\"dataframe\">\n",
       "  <thead>\n",
       "    <tr style=\"text-align: right;\">\n",
       "      <th></th>\n",
       "      <th>age</th>\n",
       "      <th>ca</th>\n",
       "      <th>chol</th>\n",
       "      <th>cp</th>\n",
       "      <th>exang</th>\n",
       "      <th>fbs</th>\n",
       "      <th>oldpeak</th>\n",
       "      <th>restecg</th>\n",
       "      <th>sex</th>\n",
       "      <th>slope</th>\n",
       "      <th>thal</th>\n",
       "      <th>thalach</th>\n",
       "      <th>trestbps</th>\n",
       "    </tr>\n",
       "  </thead>\n",
       "  <tbody>\n",
       "    <tr>\n",
       "      <th>0</th>\n",
       "      <td>63</td>\n",
       "      <td>0</td>\n",
       "      <td>233</td>\n",
       "      <td>1</td>\n",
       "      <td>0</td>\n",
       "      <td>1</td>\n",
       "      <td>2.3</td>\n",
       "      <td>2</td>\n",
       "      <td>1</td>\n",
       "      <td>3</td>\n",
       "      <td>fixed</td>\n",
       "      <td>150</td>\n",
       "      <td>145</td>\n",
       "    </tr>\n",
       "    <tr>\n",
       "      <th>1</th>\n",
       "      <td>67</td>\n",
       "      <td>3</td>\n",
       "      <td>286</td>\n",
       "      <td>4</td>\n",
       "      <td>1</td>\n",
       "      <td>0</td>\n",
       "      <td>1.5</td>\n",
       "      <td>2</td>\n",
       "      <td>1</td>\n",
       "      <td>2</td>\n",
       "      <td>normal</td>\n",
       "      <td>108</td>\n",
       "      <td>160</td>\n",
       "    </tr>\n",
       "  </tbody>\n",
       "</table>\n",
       "</div>"
      ],
      "text/plain": [
       "   age  ca  chol cp exang fbs  oldpeak restecg sex slope    thal  thalach  \\\n",
       "0   63   0   233  1     0   1      2.3       2   1     3   fixed      150   \n",
       "1   67   3   286  4     1   0      1.5       2   1     2  normal      108   \n",
       "\n",
       "   trestbps  \n",
       "0       145  \n",
       "1       160  "
      ]
     },
     "execution_count": 25,
     "metadata": {},
     "output_type": "execute_result"
    }
   ],
   "source": [
    "# 前2条原始数据\n",
    "# 因为下面DenseFeatures的处理并不是按照pd的顺序来输出的，而是按照trans_first中键的字母顺序，\n",
    "# 为了展示处理后的对比，在这里先按照字母顺序展示结果\n",
    "first_sample = del_df_data.head(2)[sorted(feature_list)]\n",
    "first_sample"
   ]
  },
  {
   "cell_type": "code",
   "execution_count": 26,
   "metadata": {},
   "outputs": [
    {
     "data": {
      "text/plain": [
       "<tf.Tensor: shape=(2, 28), dtype=float32, numpy=\n",
       "array([[ 0.        ,  0.        ,  0.        ,  0.        ,  1.        ,\n",
       "         0.        ,  0.        ,  0.24429224,  0.4026824 , -0.6779237 ,\n",
       "         1.        ,  0.        ,  0.        ,  1.        ,  0.37096775,\n",
       "         0.        ,  0.        ,  1.        ,  0.        ,  1.        ,\n",
       "         0.        ,  0.        ,  1.        ,  1.        ,  0.        ,\n",
       "         0.        ,  0.60305345,  0.4811321 ],\n",
       "       [ 0.        ,  0.        ,  0.        ,  0.        ,  1.        ,\n",
       "         0.        ,  1.        ,  0.3652968 ,  0.27555478, -1.1699853 ,\n",
       "         0.        ,  1.        ,  1.        ,  0.        ,  0.24193548,\n",
       "         0.        ,  0.        ,  1.        ,  0.        ,  1.        ,\n",
       "         0.        ,  1.        ,  0.        ,  0.        ,  1.        ,\n",
       "         0.        ,  0.28244275,  0.6226415 ]], dtype=float32)>"
      ]
     },
     "execution_count": 26,
     "metadata": {},
     "output_type": "execute_result"
    }
   ],
   "source": [
    "# 转换后的前2条数据\n",
    "trans_first = dict(first_sample)  # 需要把数据变为字典形式\n",
    "tf.keras.layers.DenseFeatures(feature_columns)(trans_first)"
   ]
  },
  {
   "cell_type": "markdown",
   "metadata": {},
   "source": [
    "经过特征列的处理以后，每个样本的特征向量的长度由原来的13变为28，以第一条数据为例说明：\n",
    "+ age：63--------**[0, 0, 0, 0, 1, 0]**\n",
    "+ ca：0----------**0**\n",
    "+ chol：233------**0.2442244**\n",
    "+ cp：1----------**[0.4026824 , -0.6779237]**\n",
    "+ exang：0-------**[1, 0]**\n",
    "+ fbs：1---------**[0, 1]**\n",
    "+ oldpeak：------**0.37096775** \t\n",
    "+ restecg：------**[0, 0, 1]**\n",
    "+ sex：1---------**[0, 1]**\t\n",
    "+ slope：3-------**[0, 0, 1]**  \t\n",
    "+ thal：fixed----**[1, 0, 0]**\t\n",
    "+ thalach：150---**0.60305345** \t\n",
    "+ trestbps：145--**0.4811321**"
   ]
  },
  {
   "cell_type": "markdown",
   "metadata": {},
   "source": [
    "### 7、构建模型\n",
    "\n",
    "因为存在样本类别不均衡的问题，考虑到实际情况，本模型追求的并不是准确率，而是患者的检出率（因为要再次确认一个人是否真是心脏病患者的成本要远远小于把一个患者错认为是正常人所造成的成本），也就是需要降低患者被误认为正常人的概率，从而增加患者被检出的概率，当然也不能全部视为患者。\n",
    "\n",
    "下面介绍三个方法，增加样本权重、自定义损失函数和重采样。最后对不同方法得到的结果进行对比。"
   ]
  },
  {
   "cell_type": "code",
   "execution_count": 27,
   "metadata": {},
   "outputs": [],
   "source": [
    "batch_size = 300\n",
    "train_ds = df_to_dataset(train, batch_size=batch_size)\n",
    "val_ds = df_to_dataset(val, shuffle=False, batch_size=batch_size)\n",
    "test_ds = df_to_dataset(test, shuffle=False, batch_size=batch_size)"
   ]
  },
  {
   "cell_type": "code",
   "execution_count": 28,
   "metadata": {},
   "outputs": [],
   "source": [
    "# 首先建立一个特征处理层\n",
    "feature_layer = tf.keras.layers.DenseFeatures(feature_columns)"
   ]
  },
  {
   "cell_type": "markdown",
   "metadata": {},
   "source": [
    "把患病的看成正类，下面计算正类的召回率(就是预测准确的正类占所有实际正类的比例, rr)，精确率(正类样本中预测正确的与所有预测为正类的样本数的比, pr)以及准确率(预测类别正确的样本占所有样本的比例, ar)。"
   ]
  },
  {
   "cell_type": "code",
   "execution_count": 29,
   "metadata": {},
   "outputs": [],
   "source": [
    "#  通过继承tf.keras.metrics.Metric实现自定义评估函数\n",
    "# 数据格式：y的实际值为[0, 1, 0, 1, ……]，y的预测值类似为[[0.34325], [0.87585], ……]\n",
    "class metrics_anfany(tf.keras.metrics.Metric):\n",
    "    def __init__(self, name, pasign, **kwargs):  # name决定输出哪种率，pasign正类标识\n",
    "        super().__init__(name=name, **kwargs)\n",
    "        #  对正确个数和总个数进行零初始化\n",
    "        self.total = self.add_weight(name='total', dtype=tf.int32, initializer='zeros')\n",
    "        self.count = self.add_weight(name='count', dtype=tf.int32, initializer='zeros')\n",
    "        self.nam = name\n",
    "        self.pasign = pasign\n",
    "           \n",
    "    # 计算混淆矩阵，注意类别需要从数字0开始，连续的数字\n",
    "    def get_confusion(self, y_true, y_pred):\n",
    "        #y_pred_m = tf.argmax(y_pred, axis=-1, output_type=tf.int32)\n",
    "        y_pred_m = tf.squeeze(tf.where(y_pred <0.5, x=0, y=1))\n",
    "        confusion_matrix = tf.math.confusion_matrix(y_true, y_pred_m)\n",
    "        return confusion_matrix\n",
    "     \n",
    "    #对状态变量进行更新\n",
    "    def update_state(self, y_true, y_pred, sample_weight=None):\n",
    "        matrix = self.get_confusion(y_true, y_pred)\n",
    "        if self.nam == 'rr': # 召回率\n",
    "            self.count.assign_add(matrix[self.pasign, self.pasign])  # 正预测为正\n",
    "            self.total.assign_add(tf.reduce_sum(matrix, 1)[self.pasign]) # 实际正\n",
    "        elif self.nam == 'pr':\n",
    "            self.count.assign_add(matrix[self.pasign][self.pasign])  # 正预测为正\n",
    "            self.total.assign_add(tf.reduce_sum(matrix, 0)[self.pasign])  # 所有预测为正\n",
    "\n",
    "    # 计算比值\n",
    "    def result(self):\n",
    "        return self.count / self.total\n",
    "    # 重置\n",
    "    def reset_states(self):\n",
    "        self.total.assign(0)\n",
    "        self.count.assign(0)\n",
    "        "
   ]
  },
  {
   "cell_type": "code",
   "execution_count": 30,
   "metadata": {},
   "outputs": [],
   "source": [
    "# 自定义的评估函数\n",
    "METRICS = [metrics_anfany('rr', 1), metrics_anfany('pr', 1), 'accuracy']"
   ]
  },
  {
   "cell_type": "code",
   "execution_count": 31,
   "metadata": {},
   "outputs": [],
   "source": [
    "# 构建模型:\n",
    "def build_model(loss_func=tf.keras.losses.BinaryCrossentropy(), m=METRICS):\n",
    "    model = tf.keras.Sequential([\n",
    "        feature_layer,\n",
    "        tf.keras.layers.Dense(32, activation='relu'),\n",
    "        tf.keras.layers.Dense(32, activation='relu'),\n",
    "        tf.keras.layers.Dense(1, activation='sigmoid')])\n",
    "    # 模型编译\n",
    "    model.compile(optimizer='adam',loss=loss_func, metrics=m)\n",
    "    return model"
   ]
  },
  {
   "cell_type": "code",
   "execution_count": 32,
   "metadata": {},
   "outputs": [],
   "source": [
    "# 输出训练过程中的成本以及各种评估指标\n",
    "def plot_train_val(historymodle, methodname, name=['loss', 'rr', 'pr', 'accuracy'], \n",
    "                   name_dict={'loss': '成本', 'rr': '召回率', 'pr': '精确率', 'accuracy':'准确率'}):\n",
    "    # 根据需要绘制的指标的个数确定图形的行数\n",
    "    plt.figure(figsize=(10, 8))\n",
    "    column = 2\n",
    "    row = (len(name) // column + 1) if (len(name) % column) else (len(name) // column)\n",
    "    for index, value in enumerate(name):\n",
    "        plt.subplot(row, column, 1+index)\n",
    "        plt.plot(historymodle.history[value], label='训练数据集', lw=3)\n",
    "        plt.plot(historymodle.history['val_%s' % value], label='验证数据集', linestyle='-.', lw=3)\n",
    "        plt.xlabel('迭代次数', fontsize=14)\n",
    "        plt.ylabel(name_dict[value], fontsize=14)\n",
    "    plt.legend(loc=2, bbox_to_anchor=(1.05,1.0),borderaxespad=0.)\n",
    "    plt.suptitle(methodname, fontsize=16)"
   ]
  },
  {
   "cell_type": "markdown",
   "metadata": {},
   "source": [
    "#### 7.0 Baseline模型"
   ]
  },
  {
   "cell_type": "code",
   "execution_count": 33,
   "metadata": {},
   "outputs": [
    {
     "name": "stdout",
     "output_type": "stream",
     "text": [
      "Train for 1 steps, validate for 1 steps\n",
      "Epoch 1/50\n",
      "\n",
      "Epoch 00001: val_loss improved from inf to 0.66817, saving model to ./base-0.66817.ckpt\n",
      "1/1 [==============================] - 3s 3s/step - loss: 0.7018 - rr: 0.4237 - pr: 0.2632 - accuracy: 0.5117 - val_loss: 0.6682 - val_rr: 0.4615 - val_pr: 0.3158 - val_accuracy: 0.5745\n",
      "Epoch 2/50\n",
      "\n",
      "Epoch 00002: val_loss improved from 0.66817 to 0.65877, saving model to ./base-0.65877.ckpt\n",
      "1/1 [==============================] - 0s 115ms/step - loss: 0.6915 - rr: 0.3220 - pr: 0.2500 - accuracy: 0.5446 - val_loss: 0.6588 - val_rr: 0.4615 - val_pr: 0.3750 - val_accuracy: 0.6383\n",
      "Epoch 3/50\n",
      "\n",
      "Epoch 00003: val_loss improved from 0.65877 to 0.64970, saving model to ./base-0.64970.ckpt\n",
      "1/1 [==============================] - 0s 131ms/step - loss: 0.6815 - rr: 0.2542 - pr: 0.2632 - accuracy: 0.5962 - val_loss: 0.6497 - val_rr: 0.4615 - val_pr: 0.5000 - val_accuracy: 0.7234\n",
      "Epoch 4/50\n",
      "\n",
      "Epoch 00004: val_loss improved from 0.64970 to 0.64092, saving model to ./base-0.64092.ckpt\n",
      "1/1 [==============================] - 0s 122ms/step - loss: 0.6721 - rr: 0.2034 - pr: 0.2609 - accuracy: 0.6197 - val_loss: 0.6409 - val_rr: 0.4615 - val_pr: 0.5455 - val_accuracy: 0.7447\n",
      "Epoch 5/50\n",
      "\n",
      "Epoch 00005: val_loss improved from 0.64092 to 0.63269, saving model to ./base-0.63269.ckpt\n",
      "1/1 [==============================] - 0s 123ms/step - loss: 0.6632 - rr: 0.1525 - pr: 0.2308 - accuracy: 0.6244 - val_loss: 0.6327 - val_rr: 0.3846 - val_pr: 0.7143 - val_accuracy: 0.7872\n",
      "Epoch 6/50\n",
      "\n",
      "Epoch 00006: val_loss improved from 0.63269 to 0.62482, saving model to ./base-0.62482.ckpt\n",
      "1/1 [==============================] - 0s 156ms/step - loss: 0.6546 - rr: 0.1525 - pr: 0.2727 - accuracy: 0.6526 - val_loss: 0.6248 - val_rr: 0.3846 - val_pr: 0.7143 - val_accuracy: 0.7872\n",
      "Epoch 7/50\n",
      "\n",
      "Epoch 00007: val_loss improved from 0.62482 to 0.61722, saving model to ./base-0.61722.ckpt\n",
      "1/1 [==============================] - 0s 123ms/step - loss: 0.6464 - rr: 0.1017 - pr: 0.2727 - accuracy: 0.6761 - val_loss: 0.6172 - val_rr: 0.3077 - val_pr: 0.6667 - val_accuracy: 0.7660\n",
      "Epoch 8/50\n",
      "\n",
      "Epoch 00008: val_loss improved from 0.61722 to 0.60990, saving model to ./base-0.60990.ckpt\n",
      "1/1 [==============================] - 0s 130ms/step - loss: 0.6386 - rr: 0.0847 - pr: 0.3333 - accuracy: 0.6995 - val_loss: 0.6099 - val_rr: 0.3077 - val_pr: 0.6667 - val_accuracy: 0.7660\n",
      "Epoch 9/50\n",
      "\n",
      "Epoch 00009: val_loss improved from 0.60990 to 0.60274, saving model to ./base-0.60274.ckpt\n",
      "1/1 [==============================] - 0s 131ms/step - loss: 0.6312 - rr: 0.0678 - pr: 0.4000 - accuracy: 0.7136 - val_loss: 0.6027 - val_rr: 0.3077 - val_pr: 0.8000 - val_accuracy: 0.7872\n",
      "Epoch 10/50\n",
      "\n",
      "Epoch 00010: val_loss improved from 0.60274 to 0.59595, saving model to ./base-0.59595.ckpt\n",
      "1/1 [==============================] - 0s 130ms/step - loss: 0.6239 - rr: 0.0339 - pr: 0.2857 - accuracy: 0.7089 - val_loss: 0.5960 - val_rr: 0.2308 - val_pr: 0.7500 - val_accuracy: 0.7660\n",
      "Epoch 11/50\n",
      "\n",
      "Epoch 00011: val_loss improved from 0.59595 to 0.58951, saving model to ./base-0.58951.ckpt\n",
      "1/1 [==============================] - 0s 151ms/step - loss: 0.6169 - rr: 0.0339 - pr: 0.5000 - accuracy: 0.7230 - val_loss: 0.5895 - val_rr: 0.2308 - val_pr: 0.7500 - val_accuracy: 0.7660\n",
      "Epoch 12/50\n",
      "\n",
      "Epoch 00012: val_loss improved from 0.58951 to 0.58338, saving model to ./base-0.58338.ckpt\n",
      "1/1 [==============================] - 0s 187ms/step - loss: 0.6101 - rr: 0.0339 - pr: 0.6667 - accuracy: 0.7277 - val_loss: 0.5834 - val_rr: 0.2308 - val_pr: 0.7500 - val_accuracy: 0.7660\n",
      "Epoch 13/50\n",
      "\n",
      "Epoch 00013: val_loss improved from 0.58338 to 0.57751, saving model to ./base-0.57751.ckpt\n",
      "1/1 [==============================] - 0s 139ms/step - loss: 0.6036 - rr: 0.0339 - pr: 0.6667 - accuracy: 0.7277 - val_loss: 0.5775 - val_rr: 0.2308 - val_pr: 0.7500 - val_accuracy: 0.7660\n",
      "Epoch 14/50\n",
      "\n",
      "Epoch 00014: val_loss improved from 0.57751 to 0.57183, saving model to ./base-0.57183.ckpt\n",
      "1/1 [==============================] - 0s 122ms/step - loss: 0.5972 - rr: 0.0339 - pr: 1.0000 - accuracy: 0.7324 - val_loss: 0.5718 - val_rr: 0.2308 - val_pr: 0.7500 - val_accuracy: 0.7660\n",
      "Epoch 15/50\n",
      "\n",
      "Epoch 00015: val_loss improved from 0.57183 to 0.56625, saving model to ./base-0.56625.ckpt\n",
      "1/1 [==============================] - 0s 113ms/step - loss: 0.5910 - rr: 0.0339 - pr: 1.0000 - accuracy: 0.7324 - val_loss: 0.5663 - val_rr: 0.2308 - val_pr: 1.0000 - val_accuracy: 0.7872\n",
      "Epoch 16/50\n",
      "\n",
      "Epoch 00016: val_loss improved from 0.56625 to 0.56077, saving model to ./base-0.56077.ckpt\n",
      "1/1 [==============================] - 0s 131ms/step - loss: 0.5849 - rr: 0.0169 - pr: 1.0000 - accuracy: 0.7277 - val_loss: 0.5608 - val_rr: 0.2308 - val_pr: 1.0000 - val_accuracy: 0.7872\n",
      "Epoch 17/50\n",
      "\n",
      "Epoch 00017: val_loss improved from 0.56077 to 0.55530, saving model to ./base-0.55530.ckpt\n",
      "1/1 [==============================] - 0s 220ms/step - loss: 0.5790 - rr: 0.0000e+00 - pr: nan - accuracy: 0.7230 - val_loss: 0.5553 - val_rr: 0.2308 - val_pr: 1.0000 - val_accuracy: 0.7872\n",
      "Epoch 18/50\n",
      "\n",
      "Epoch 00018: val_loss improved from 0.55530 to 0.54984, saving model to ./base-0.54984.ckpt\n",
      "1/1 [==============================] - 0s 145ms/step - loss: 0.5731 - rr: 0.0000e+00 - pr: nan - accuracy: 0.7230 - val_loss: 0.5498 - val_rr: 0.2308 - val_pr: 1.0000 - val_accuracy: 0.7872\n",
      "Epoch 19/50\n",
      "\n",
      "Epoch 00019: val_loss improved from 0.54984 to 0.54448, saving model to ./base-0.54448.ckpt\n",
      "1/1 [==============================] - 0s 145ms/step - loss: 0.5674 - rr: 0.0000e+00 - pr: nan - accuracy: 0.7230 - val_loss: 0.5445 - val_rr: 0.2308 - val_pr: 1.0000 - val_accuracy: 0.7872\n",
      "Epoch 20/50\n",
      "\n",
      "Epoch 00020: val_loss improved from 0.54448 to 0.53931, saving model to ./base-0.53931.ckpt\n",
      "1/1 [==============================] - 0s 131ms/step - loss: 0.5618 - rr: 0.0000e+00 - pr: nan - accuracy: 0.7230 - val_loss: 0.5393 - val_rr: 0.1538 - val_pr: 1.0000 - val_accuracy: 0.7660\n",
      "Epoch 21/50\n",
      "\n",
      "Epoch 00021: val_loss improved from 0.53931 to 0.53427, saving model to ./base-0.53427.ckpt\n",
      "1/1 [==============================] - 0s 122ms/step - loss: 0.5562 - rr: 0.0000e+00 - pr: nan - accuracy: 0.7230 - val_loss: 0.5343 - val_rr: 0.1538 - val_pr: 1.0000 - val_accuracy: 0.7660\n",
      "Epoch 22/50\n",
      "\n",
      "Epoch 00022: val_loss improved from 0.53427 to 0.52918, saving model to ./base-0.52918.ckpt\n",
      "1/1 [==============================] - 0s 164ms/step - loss: 0.5506 - rr: 0.0000e+00 - pr: nan - accuracy: 0.7230 - val_loss: 0.5292 - val_rr: 0.1538 - val_pr: 1.0000 - val_accuracy: 0.7660\n",
      "Epoch 23/50\n",
      "\n",
      "Epoch 00023: val_loss improved from 0.52918 to 0.52409, saving model to ./base-0.52409.ckpt\n",
      "1/1 [==============================] - 0s 262ms/step - loss: 0.5452 - rr: 0.0000e+00 - pr: nan - accuracy: 0.7230 - val_loss: 0.5241 - val_rr: 0.0769 - val_pr: 0.5000 - val_accuracy: 0.7234\n",
      "Epoch 24/50\n",
      "\n",
      "Epoch 00024: val_loss improved from 0.52409 to 0.51907, saving model to ./base-0.51907.ckpt\n",
      "1/1 [==============================] - 0s 139ms/step - loss: 0.5397 - rr: 0.0000e+00 - pr: nan - accuracy: 0.7230 - val_loss: 0.5191 - val_rr: 0.0769 - val_pr: 0.5000 - val_accuracy: 0.7234\n",
      "Epoch 25/50\n",
      "\n",
      "Epoch 00025: val_loss improved from 0.51907 to 0.51406, saving model to ./base-0.51406.ckpt\n",
      "1/1 [==============================] - 0s 130ms/step - loss: 0.5343 - rr: 0.0000e+00 - pr: nan - accuracy: 0.7230 - val_loss: 0.5141 - val_rr: 0.0769 - val_pr: 0.5000 - val_accuracy: 0.7234\n",
      "Epoch 26/50\n",
      "\n",
      "Epoch 00026: val_loss improved from 0.51406 to 0.50906, saving model to ./base-0.50906.ckpt\n",
      "1/1 [==============================] - 0s 114ms/step - loss: 0.5290 - rr: 0.0000e+00 - pr: 0.0000e+00 - accuracy: 0.7183 - val_loss: 0.5091 - val_rr: 0.0769 - val_pr: 0.5000 - val_accuracy: 0.7234\n",
      "Epoch 27/50\n",
      "\n",
      "Epoch 00027: val_loss improved from 0.50906 to 0.50401, saving model to ./base-0.50401.ckpt\n",
      "1/1 [==============================] - 0s 121ms/step - loss: 0.5236 - rr: 0.0000e+00 - pr: 0.0000e+00 - accuracy: 0.7183 - val_loss: 0.5040 - val_rr: 0.0769 - val_pr: 0.5000 - val_accuracy: 0.7234\n",
      "Epoch 28/50\n",
      "\n",
      "Epoch 00028: val_loss improved from 0.50401 to 0.49893, saving model to ./base-0.49893.ckpt\n",
      "1/1 [==============================] - 0s 141ms/step - loss: 0.5183 - rr: 0.0339 - pr: 0.5000 - accuracy: 0.7230 - val_loss: 0.4989 - val_rr: 0.0769 - val_pr: 0.5000 - val_accuracy: 0.7234\n",
      "Epoch 29/50\n",
      "\n",
      "Epoch 00029: val_loss improved from 0.49893 to 0.49385, saving model to ./base-0.49385.ckpt\n",
      "1/1 [==============================] - 0s 126ms/step - loss: 0.5130 - rr: 0.0339 - pr: 0.5000 - accuracy: 0.7230 - val_loss: 0.4938 - val_rr: 0.1538 - val_pr: 0.6667 - val_accuracy: 0.7447\n",
      "Epoch 30/50\n",
      "\n",
      "Epoch 00030: val_loss improved from 0.49385 to 0.48877, saving model to ./base-0.48877.ckpt\n",
      "1/1 [==============================] - 0s 123ms/step - loss: 0.5077 - rr: 0.0508 - pr: 0.6000 - accuracy: 0.7277 - val_loss: 0.4888 - val_rr: 0.1538 - val_pr: 0.6667 - val_accuracy: 0.7447\n",
      "Epoch 31/50\n",
      "\n",
      "Epoch 00031: val_loss improved from 0.48877 to 0.48372, saving model to ./base-0.48372.ckpt\n",
      "1/1 [==============================] - 0s 123ms/step - loss: 0.5025 - rr: 0.0508 - pr: 0.6000 - accuracy: 0.7277 - val_loss: 0.4837 - val_rr: 0.1538 - val_pr: 0.6667 - val_accuracy: 0.7447\n",
      "Epoch 32/50\n",
      "\n",
      "Epoch 00032: val_loss improved from 0.48372 to 0.47865, saving model to ./base-0.47865.ckpt\n",
      "1/1 [==============================] - 0s 241ms/step - loss: 0.4973 - rr: 0.0508 - pr: 0.6000 - accuracy: 0.7277 - val_loss: 0.4787 - val_rr: 0.2308 - val_pr: 0.7500 - val_accuracy: 0.7660\n",
      "Epoch 33/50\n",
      "\n",
      "Epoch 00033: val_loss improved from 0.47865 to 0.47352, saving model to ./base-0.47352.ckpt\n",
      "1/1 [==============================] - 0s 177ms/step - loss: 0.4920 - rr: 0.0847 - pr: 0.5000 - accuracy: 0.7230 - val_loss: 0.4735 - val_rr: 0.2308 - val_pr: 0.7500 - val_accuracy: 0.7660\n",
      "Epoch 34/50\n",
      "\n",
      "Epoch 00034: val_loss improved from 0.47352 to 0.46839, saving model to ./base-0.46839.ckpt\n",
      "1/1 [==============================] - 0s 136ms/step - loss: 0.4869 - rr: 0.0847 - pr: 0.5000 - accuracy: 0.7230 - val_loss: 0.4684 - val_rr: 0.2308 - val_pr: 0.7500 - val_accuracy: 0.7660\n",
      "Epoch 35/50\n",
      "\n",
      "Epoch 00035: val_loss improved from 0.46839 to 0.46325, saving model to ./base-0.46325.ckpt\n",
      "1/1 [==============================] - 0s 155ms/step - loss: 0.4817 - rr: 0.1017 - pr: 0.5455 - accuracy: 0.7277 - val_loss: 0.4632 - val_rr: 0.2308 - val_pr: 0.7500 - val_accuracy: 0.7660\n",
      "Epoch 36/50\n",
      "\n",
      "Epoch 00036: val_loss improved from 0.46325 to 0.45810, saving model to ./base-0.45810.ckpt\n",
      "1/1 [==============================] - 0s 130ms/step - loss: 0.4766 - rr: 0.1695 - pr: 0.6250 - accuracy: 0.7418 - val_loss: 0.4581 - val_rr: 0.2308 - val_pr: 0.7500 - val_accuracy: 0.7660\n",
      "Epoch 37/50\n",
      "\n",
      "Epoch 00037: val_loss improved from 0.45810 to 0.45293, saving model to ./base-0.45293.ckpt\n",
      "1/1 [==============================] - 0s 147ms/step - loss: 0.4714 - rr: 0.2203 - pr: 0.6842 - accuracy: 0.7559 - val_loss: 0.4529 - val_rr: 0.2308 - val_pr: 0.7500 - val_accuracy: 0.7660\n",
      "Epoch 38/50\n",
      "\n",
      "Epoch 00038: val_loss improved from 0.45293 to 0.44770, saving model to ./base-0.44770.ckpt\n",
      "1/1 [==============================] - 0s 161ms/step - loss: 0.4664 - rr: 0.2203 - pr: 0.6500 - accuracy: 0.7512 - val_loss: 0.4477 - val_rr: 0.2308 - val_pr: 0.7500 - val_accuracy: 0.7660\n",
      "Epoch 39/50\n",
      "\n",
      "Epoch 00039: val_loss improved from 0.44770 to 0.44251, saving model to ./base-0.44251.ckpt\n",
      "1/1 [==============================] - 0s 131ms/step - loss: 0.4613 - rr: 0.2373 - pr: 0.6667 - accuracy: 0.7559 - val_loss: 0.4425 - val_rr: 0.3077 - val_pr: 0.8000 - val_accuracy: 0.7872\n",
      "Epoch 40/50\n",
      "\n",
      "Epoch 00040: val_loss improved from 0.44251 to 0.43735, saving model to ./base-0.43735.ckpt\n",
      "1/1 [==============================] - 0s 191ms/step - loss: 0.4562 - rr: 0.2542 - pr: 0.6818 - accuracy: 0.7606 - val_loss: 0.4373 - val_rr: 0.3077 - val_pr: 0.8000 - val_accuracy: 0.7872\n",
      "Epoch 41/50\n",
      "\n",
      "Epoch 00041: val_loss improved from 0.43735 to 0.43220, saving model to ./base-0.43220.ckpt\n",
      "1/1 [==============================] - 0s 174ms/step - loss: 0.4512 - rr: 0.2542 - pr: 0.6818 - accuracy: 0.7606 - val_loss: 0.4322 - val_rr: 0.3077 - val_pr: 0.8000 - val_accuracy: 0.7872\n",
      "Epoch 42/50\n",
      "\n",
      "Epoch 00042: val_loss improved from 0.43220 to 0.42711, saving model to ./base-0.42711.ckpt\n",
      "1/1 [==============================] - 0s 128ms/step - loss: 0.4462 - rr: 0.2881 - pr: 0.7083 - accuracy: 0.7700 - val_loss: 0.4271 - val_rr: 0.3077 - val_pr: 0.8000 - val_accuracy: 0.7872\n",
      "Epoch 43/50\n",
      "\n",
      "Epoch 00043: val_loss improved from 0.42711 to 0.42204, saving model to ./base-0.42204.ckpt\n",
      "1/1 [==============================] - 0s 139ms/step - loss: 0.4412 - rr: 0.3051 - pr: 0.7200 - accuracy: 0.7746 - val_loss: 0.4220 - val_rr: 0.3846 - val_pr: 0.8333 - val_accuracy: 0.8085\n",
      "Epoch 44/50\n",
      "\n",
      "Epoch 00044: val_loss improved from 0.42204 to 0.41702, saving model to ./base-0.41702.ckpt\n",
      "1/1 [==============================] - 0s 121ms/step - loss: 0.4363 - rr: 0.3559 - pr: 0.7241 - accuracy: 0.7840 - val_loss: 0.4170 - val_rr: 0.3846 - val_pr: 0.8333 - val_accuracy: 0.8085\n",
      "Epoch 45/50\n",
      "\n",
      "Epoch 00045: val_loss improved from 0.41702 to 0.41205, saving model to ./base-0.41205.ckpt\n",
      "1/1 [==============================] - 0s 122ms/step - loss: 0.4314 - rr: 0.3729 - pr: 0.7333 - accuracy: 0.7887 - val_loss: 0.4120 - val_rr: 0.3846 - val_pr: 0.8333 - val_accuracy: 0.8085\n",
      "Epoch 46/50\n",
      "\n",
      "Epoch 00046: val_loss improved from 0.41205 to 0.40719, saving model to ./base-0.40719.ckpt\n",
      "1/1 [==============================] - 0s 138ms/step - loss: 0.4266 - rr: 0.3898 - pr: 0.7419 - accuracy: 0.7934 - val_loss: 0.4072 - val_rr: 0.3846 - val_pr: 0.8333 - val_accuracy: 0.8085\n",
      "Epoch 47/50\n",
      "\n",
      "Epoch 00047: val_loss improved from 0.40719 to 0.40228, saving model to ./base-0.40228.ckpt\n",
      "1/1 [==============================] - 0s 121ms/step - loss: 0.4218 - rr: 0.3898 - pr: 0.7419 - accuracy: 0.7934 - val_loss: 0.4023 - val_rr: 0.3846 - val_pr: 0.7143 - val_accuracy: 0.7872\n",
      "Epoch 48/50\n",
      "\n",
      "Epoch 00048: val_loss improved from 0.40228 to 0.39740, saving model to ./base-0.39740.ckpt\n",
      "1/1 [==============================] - 0s 240ms/step - loss: 0.4171 - rr: 0.4237 - pr: 0.7353 - accuracy: 0.7981 - val_loss: 0.3974 - val_rr: 0.3846 - val_pr: 0.7143 - val_accuracy: 0.7872\n",
      "Epoch 49/50\n",
      "\n",
      "Epoch 00049: val_loss improved from 0.39740 to 0.39276, saving model to ./base-0.39276.ckpt\n",
      "1/1 [==============================] - 0s 163ms/step - loss: 0.4125 - rr: 0.4237 - pr: 0.7353 - accuracy: 0.7981 - val_loss: 0.3928 - val_rr: 0.4615 - val_pr: 0.7500 - val_accuracy: 0.8085\n",
      "Epoch 50/50\n",
      "\n",
      "Epoch 00050: val_loss improved from 0.39276 to 0.38820, saving model to ./base-0.38820.ckpt\n",
      "1/1 [==============================] - 0s 144ms/step - loss: 0.4079 - rr: 0.4746 - pr: 0.7568 - accuracy: 0.8122 - val_loss: 0.3882 - val_rr: 0.4615 - val_pr: 0.7500 - val_accuracy: 0.8085\n"
     ]
    }
   ],
   "source": [
    "# 保存模型的文件夹\n",
    "checkpoint_path_base = \"./base-{val_loss:.5f}.ckpt\"\n",
    "checkpoint_dir_base = os.path.dirname(checkpoint_path_base)\n",
    "\n",
    "# 创建一个回调，保证验证数据集损失最小\n",
    "model_callback = tf.keras.callbacks.ModelCheckpoint(filepath=checkpoint_path_base, save_weights_only=True,\n",
    "                                                    monitor='val_loss', mode='min', verbose=2, save_best_only=True)\n",
    "# 模型训练\n",
    "base_model = build_model()\n",
    "history_base = base_model.fit(train_ds, validation_data=val_ds, epochs=50, callbacks=[model_callback])"
   ]
  },
  {
   "cell_type": "code",
   "execution_count": 34,
   "metadata": {},
   "outputs": [
    {
     "data": {
      "text/plain": [
       "<tensorflow.python.training.tracking.util.CheckpointLoadStatus at 0x12424a88>"
      ]
     },
     "execution_count": 34,
     "metadata": {},
     "output_type": "execute_result"
    }
   ],
   "source": [
    "# 加载已经训练好的参数\n",
    "model_base = build_model()\n",
    "best_para_base = tf.train.latest_checkpoint(checkpoint_dir_base)\n",
    "model_base.load_weights(best_para_base)"
   ]
  },
  {
   "cell_type": "code",
   "execution_count": 35,
   "metadata": {},
   "outputs": [],
   "source": [
    "# 测试数据集的结果\n",
    "y_test_base = model_base.predict(test_ds)\n",
    "y_test_last_base = tf.squeeze(tf.where(y_test_base<0.5, x=0, y=1))"
   ]
  },
  {
   "cell_type": "code",
   "execution_count": 57,
   "metadata": {},
   "outputs": [
    {
     "data": {
      "image/png": "[encoded data removed]",
      "text/plain": [
       "<Figure size 720x576 with 4 Axes>"
      ]
     },
     "metadata": {
      "needs_background": "light"
     },
     "output_type": "display_data"
    }
   ],
   "source": [
    "# 展示训练结果\n",
    "plot_train_val(history_base, '方法：Baseline模型')"
   ]
  },
  {
   "cell_type": "markdown",
   "metadata": {},
   "source": [
    "#### 7.1 样本添加权重"
   ]
  },
  {
   "cell_type": "code",
   "execution_count": 37,
   "metadata": {},
   "outputs": [
    {
     "data": {
      "text/plain": [
       "{0: 1.3831168831168832, 1: 3.610169491525424}"
      ]
     },
     "execution_count": 37,
     "metadata": {},
     "output_type": "execute_result"
    }
   ],
   "source": [
    "# 获取训练数据中各个类别的权重--字典格式\n",
    "class_weight = {}\n",
    "for cc in train['target'].unique():\n",
    "    class_weight[cc] = len(train) / (len(train[train['target'] == cc]))\n",
    "class_weight"
   ]
  },
  {
   "cell_type": "code",
   "execution_count": 38,
   "metadata": {},
   "outputs": [
    {
     "name": "stdout",
     "output_type": "stream",
     "text": [
      "Train for 1 steps, validate for 1 steps\n",
      "Epoch 1/50\n",
      "\n",
      "Epoch 00001: val_loss improved from inf to 1.45956, saving model to ./weight-1.45956.ckpt\n",
      "1/1 [==============================] - 3s 3s/step - loss: 1.4172 - rr: 0.4068 - pr: 0.2963 - accuracy: 0.5681 - val_loss: 1.4596 - val_rr: 0.3846 - val_pr: 0.3125 - val_accuracy: 0.5957\n",
      "Epoch 2/50\n",
      "\n",
      "Epoch 00002: val_loss improved from 1.45956 to 1.43876, saving model to ./weight-1.43876.ckpt\n",
      "1/1 [==============================] - 0s 204ms/step - loss: 1.3961 - rr: 0.4237 - pr: 0.2874 - accuracy: 0.5493 - val_loss: 1.4388 - val_rr: 0.4615 - val_pr: 0.3158 - val_accuracy: 0.5745\n",
      "Epoch 3/50\n",
      "\n",
      "Epoch 00003: val_loss improved from 1.43876 to 1.41893, saving model to ./weight-1.41893.ckpt\n",
      "1/1 [==============================] - 0s 169ms/step - loss: 1.3762 - rr: 0.5254 - pr: 0.3407 - accuracy: 0.5869 - val_loss: 1.4189 - val_rr: 0.4615 - val_pr: 0.3158 - val_accuracy: 0.5745\n",
      "Epoch 4/50\n",
      "\n",
      "Epoch 00004: val_loss improved from 1.41893 to 1.39968, saving model to ./weight-1.39968.ckpt\n",
      "1/1 [==============================] - 0s 147ms/step - loss: 1.3572 - rr: 0.5593 - pr: 0.3474 - accuracy: 0.5869 - val_loss: 1.3997 - val_rr: 0.4615 - val_pr: 0.2857 - val_accuracy: 0.5319\n",
      "Epoch 5/50\n",
      "\n",
      "Epoch 00005: val_loss improved from 1.39968 to 1.38099, saving model to ./weight-1.38099.ckpt\n",
      "1/1 [==============================] - 0s 157ms/step - loss: 1.3392 - rr: 0.5763 - pr: 0.3469 - accuracy: 0.5822 - val_loss: 1.3810 - val_rr: 0.4615 - val_pr: 0.2857 - val_accuracy: 0.5319\n",
      "Epoch 6/50\n",
      "\n",
      "Epoch 00006: val_loss improved from 1.38099 to 1.36281, saving model to ./weight-1.36281.ckpt\n",
      "1/1 [==============================] - 0s 163ms/step - loss: 1.3222 - rr: 0.5763 - pr: 0.3505 - accuracy: 0.5869 - val_loss: 1.3628 - val_rr: 0.5385 - val_pr: 0.3182 - val_accuracy: 0.5532\n",
      "Epoch 7/50\n",
      "\n",
      "Epoch 00007: val_loss improved from 1.36281 to 1.34513, saving model to ./weight-1.34513.ckpt\n",
      "1/1 [==============================] - 0s 147ms/step - loss: 1.3059 - rr: 0.5763 - pr: 0.3542 - accuracy: 0.5915 - val_loss: 1.3451 - val_rr: 0.5385 - val_pr: 0.3182 - val_accuracy: 0.5532\n",
      "Epoch 8/50\n",
      "\n",
      "Epoch 00008: val_loss improved from 1.34513 to 1.32777, saving model to ./weight-1.32777.ckpt\n",
      "1/1 [==============================] - 0s 190ms/step - loss: 1.2902 - rr: 0.6271 - pr: 0.3663 - accuracy: 0.5962 - val_loss: 1.3278 - val_rr: 0.5385 - val_pr: 0.3182 - val_accuracy: 0.5532\n",
      "Epoch 9/50\n",
      "\n",
      "Epoch 00009: val_loss improved from 1.32777 to 1.31072, saving model to ./weight-1.31072.ckpt\n",
      "1/1 [==============================] - 0s 166ms/step - loss: 1.2747 - rr: 0.6610 - pr: 0.3824 - accuracy: 0.6103 - val_loss: 1.3107 - val_rr: 0.5385 - val_pr: 0.3500 - val_accuracy: 0.5957\n",
      "Epoch 10/50\n",
      "\n",
      "Epoch 00010: val_loss improved from 1.31072 to 1.29391, saving model to ./weight-1.29391.ckpt\n",
      "1/1 [==============================] - 0s 176ms/step - loss: 1.2596 - rr: 0.6610 - pr: 0.3861 - accuracy: 0.6150 - val_loss: 1.2939 - val_rr: 0.6154 - val_pr: 0.3810 - val_accuracy: 0.6170\n",
      "Epoch 11/50\n",
      "\n",
      "Epoch 00011: val_loss improved from 1.29391 to 1.27682, saving model to ./weight-1.27682.ckpt\n",
      "1/1 [==============================] - 0s 174ms/step - loss: 1.2448 - rr: 0.6610 - pr: 0.3900 - accuracy: 0.6197 - val_loss: 1.2768 - val_rr: 0.6923 - val_pr: 0.3913 - val_accuracy: 0.6170\n",
      "Epoch 12/50\n",
      "\n",
      "Epoch 00012: val_loss improved from 1.27682 to 1.25946, saving model to ./weight-1.25946.ckpt\n",
      "1/1 [==============================] - 0s 163ms/step - loss: 1.2301 - rr: 0.6949 - pr: 0.4100 - accuracy: 0.6385 - val_loss: 1.2595 - val_rr: 0.7692 - val_pr: 0.4167 - val_accuracy: 0.6383\n",
      "Epoch 13/50\n",
      "\n",
      "Epoch 00013: val_loss improved from 1.25946 to 1.24205, saving model to ./weight-1.24205.ckpt\n",
      "1/1 [==============================] - 0s 307ms/step - loss: 1.2156 - rr: 0.6949 - pr: 0.4184 - accuracy: 0.6479 - val_loss: 1.2420 - val_rr: 0.8462 - val_pr: 0.4583 - val_accuracy: 0.6809\n",
      "Epoch 14/50\n",
      "\n",
      "Epoch 00014: val_loss improved from 1.24205 to 1.22481, saving model to ./weight-1.22481.ckpt\n",
      "1/1 [==============================] - 0s 170ms/step - loss: 1.2012 - rr: 0.6949 - pr: 0.4316 - accuracy: 0.6620 - val_loss: 1.2248 - val_rr: 0.8462 - val_pr: 0.4783 - val_accuracy: 0.7021\n",
      "Epoch 15/50\n",
      "\n",
      "Epoch 00015: val_loss improved from 1.22481 to 1.20803, saving model to ./weight-1.20803.ckpt\n",
      "1/1 [==============================] - 0s 155ms/step - loss: 1.1872 - rr: 0.6949 - pr: 0.4271 - accuracy: 0.6573 - val_loss: 1.2080 - val_rr: 0.8462 - val_pr: 0.5000 - val_accuracy: 0.7234\n",
      "Epoch 16/50\n",
      "\n",
      "Epoch 00016: val_loss improved from 1.20803 to 1.19164, saving model to ./weight-1.19164.ckpt\n",
      "1/1 [==============================] - 0s 149ms/step - loss: 1.1736 - rr: 0.7119 - pr: 0.4375 - accuracy: 0.6667 - val_loss: 1.1916 - val_rr: 0.8462 - val_pr: 0.5000 - val_accuracy: 0.7234\n",
      "Epoch 17/50\n",
      "\n",
      "Epoch 00017: val_loss improved from 1.19164 to 1.17589, saving model to ./weight-1.17589.ckpt\n",
      "1/1 [==============================] - 0s 189ms/step - loss: 1.1602 - rr: 0.7288 - pr: 0.4574 - accuracy: 0.6854 - val_loss: 1.1759 - val_rr: 0.8462 - val_pr: 0.5238 - val_accuracy: 0.7447\n",
      "Epoch 18/50\n",
      "\n",
      "Epoch 00018: val_loss improved from 1.17589 to 1.16052, saving model to ./weight-1.16052.ckpt\n",
      "1/1 [==============================] - 0s 182ms/step - loss: 1.1470 - rr: 0.7627 - pr: 0.4688 - accuracy: 0.6948 - val_loss: 1.1605 - val_rr: 0.8462 - val_pr: 0.5238 - val_accuracy: 0.7447\n",
      "Epoch 19/50\n",
      "\n",
      "Epoch 00019: val_loss improved from 1.16052 to 1.14557, saving model to ./weight-1.14557.ckpt\n",
      "1/1 [==============================] - 0s 185ms/step - loss: 1.1339 - rr: 0.7797 - pr: 0.5000 - accuracy: 0.7230 - val_loss: 1.1456 - val_rr: 0.8462 - val_pr: 0.5238 - val_accuracy: 0.7447\n",
      "Epoch 20/50\n",
      "\n",
      "Epoch 00020: val_loss improved from 1.14557 to 1.13090, saving model to ./weight-1.13090.ckpt\n",
      "1/1 [==============================] - 0s 174ms/step - loss: 1.1208 - rr: 0.7966 - pr: 0.5054 - accuracy: 0.7277 - val_loss: 1.1309 - val_rr: 0.8462 - val_pr: 0.5238 - val_accuracy: 0.7447\n",
      "Epoch 21/50\n",
      "\n",
      "Epoch 00021: val_loss improved from 1.13090 to 1.11606, saving model to ./weight-1.11606.ckpt\n",
      "1/1 [==============================] - 0s 208ms/step - loss: 1.1078 - rr: 0.7966 - pr: 0.5054 - accuracy: 0.7277 - val_loss: 1.1161 - val_rr: 0.8462 - val_pr: 0.5238 - val_accuracy: 0.7447\n",
      "Epoch 22/50\n",
      "\n",
      "Epoch 00022: val_loss improved from 1.11606 to 1.10146, saving model to ./weight-1.10146.ckpt\n",
      "1/1 [==============================] - 0s 160ms/step - loss: 1.0948 - rr: 0.7966 - pr: 0.5109 - accuracy: 0.7324 - val_loss: 1.1015 - val_rr: 0.8462 - val_pr: 0.5238 - val_accuracy: 0.7447\n",
      "Epoch 23/50\n",
      "\n",
      "Epoch 00023: val_loss improved from 1.10146 to 1.08721, saving model to ./weight-1.08721.ckpt\n",
      "1/1 [==============================] - 0s 199ms/step - loss: 1.0822 - rr: 0.7966 - pr: 0.5222 - accuracy: 0.7418 - val_loss: 1.0872 - val_rr: 0.8462 - val_pr: 0.5238 - val_accuracy: 0.7447\n",
      "Epoch 24/50\n",
      "\n",
      "Epoch 00024: val_loss improved from 1.08721 to 1.07335, saving model to ./weight-1.07335.ckpt\n",
      "1/1 [==============================] - 0s 195ms/step - loss: 1.0696 - rr: 0.8136 - pr: 0.5455 - accuracy: 0.7606 - val_loss: 1.0734 - val_rr: 0.8462 - val_pr: 0.5238 - val_accuracy: 0.7447\n",
      "Epoch 25/50\n",
      "\n",
      "Epoch 00025: val_loss improved from 1.07335 to 1.05967, saving model to ./weight-1.05967.ckpt\n",
      "1/1 [==============================] - 0s 261ms/step - loss: 1.0574 - rr: 0.8136 - pr: 0.5581 - accuracy: 0.7700 - val_loss: 1.0597 - val_rr: 0.8462 - val_pr: 0.5238 - val_accuracy: 0.7447\n",
      "Epoch 26/50\n",
      "\n",
      "Epoch 00026: val_loss improved from 1.05967 to 1.04642, saving model to ./weight-1.04642.ckpt\n",
      "1/1 [==============================] - 0s 221ms/step - loss: 1.0455 - rr: 0.8136 - pr: 0.5581 - accuracy: 0.7700 - val_loss: 1.0464 - val_rr: 0.8462 - val_pr: 0.5500 - val_accuracy: 0.7660\n",
      "Epoch 27/50\n",
      "\n",
      "Epoch 00027: val_loss improved from 1.04642 to 1.03303, saving model to ./weight-1.03303.ckpt\n",
      "1/1 [==============================] - 0s 157ms/step - loss: 1.0339 - rr: 0.8305 - pr: 0.5904 - accuracy: 0.7934 - val_loss: 1.0330 - val_rr: 0.8462 - val_pr: 0.5500 - val_accuracy: 0.7660\n",
      "Epoch 28/50\n",
      "\n",
      "Epoch 00028: val_loss improved from 1.03303 to 1.01992, saving model to ./weight-1.01992.ckpt\n",
      "1/1 [==============================] - 0s 147ms/step - loss: 1.0224 - rr: 0.8305 - pr: 0.5833 - accuracy: 0.7887 - val_loss: 1.0199 - val_rr: 0.8462 - val_pr: 0.5500 - val_accuracy: 0.7660\n",
      "Epoch 29/50\n",
      "\n",
      "Epoch 00029: val_loss improved from 1.01992 to 1.00676, saving model to ./weight-1.00676.ckpt\n",
      "1/1 [==============================] - 0s 148ms/step - loss: 1.0109 - rr: 0.8305 - pr: 0.5765 - accuracy: 0.7840 - val_loss: 1.0068 - val_rr: 0.8462 - val_pr: 0.5500 - val_accuracy: 0.7660\n",
      "Epoch 30/50\n",
      "\n",
      "Epoch 00030: val_loss improved from 1.00676 to 0.99389, saving model to ./weight-0.99389.ckpt\n",
      "1/1 [==============================] - 0s 214ms/step - loss: 0.9996 - rr: 0.8305 - pr: 0.5765 - accuracy: 0.7840 - val_loss: 0.9939 - val_rr: 0.8462 - val_pr: 0.5500 - val_accuracy: 0.7660\n",
      "Epoch 31/50\n",
      "\n",
      "Epoch 00031: val_loss improved from 0.99389 to 0.98132, saving model to ./weight-0.98132.ckpt\n",
      "1/1 [==============================] - 0s 180ms/step - loss: 0.9887 - rr: 0.8305 - pr: 0.5976 - accuracy: 0.7981 - val_loss: 0.9813 - val_rr: 0.9231 - val_pr: 0.5714 - val_accuracy: 0.7872\n",
      "Epoch 32/50\n",
      "\n",
      "Epoch 00032: val_loss improved from 0.98132 to 0.96891, saving model to ./weight-0.96891.ckpt\n",
      "1/1 [==============================] - 0s 173ms/step - loss: 0.9779 - rr: 0.8644 - pr: 0.6071 - accuracy: 0.8075 - val_loss: 0.9689 - val_rr: 0.9231 - val_pr: 0.5714 - val_accuracy: 0.7872\n",
      "Epoch 33/50\n",
      "\n",
      "Epoch 00033: val_loss improved from 0.96891 to 0.95687, saving model to ./weight-0.95687.ckpt\n",
      "1/1 [==============================] - 0s 180ms/step - loss: 0.9675 - rr: 0.8644 - pr: 0.6071 - accuracy: 0.8075 - val_loss: 0.9569 - val_rr: 0.9231 - val_pr: 0.5714 - val_accuracy: 0.7872\n",
      "Epoch 34/50\n",
      "\n",
      "Epoch 00034: val_loss improved from 0.95687 to 0.94509, saving model to ./weight-0.94509.ckpt\n",
      "1/1 [==============================] - 0s 148ms/step - loss: 0.9573 - rr: 0.8644 - pr: 0.6145 - accuracy: 0.8122 - val_loss: 0.9451 - val_rr: 0.9231 - val_pr: 0.5714 - val_accuracy: 0.7872\n",
      "Epoch 35/50\n",
      "\n",
      "Epoch 00035: val_loss improved from 0.94509 to 0.93376, saving model to ./weight-0.93376.ckpt\n",
      "1/1 [==============================] - 0s 164ms/step - loss: 0.9474 - rr: 0.8644 - pr: 0.6145 - accuracy: 0.8122 - val_loss: 0.9338 - val_rr: 0.9231 - val_pr: 0.5714 - val_accuracy: 0.7872\n",
      "Epoch 36/50\n",
      "\n",
      "Epoch 00036: val_loss improved from 0.93376 to 0.92280, saving model to ./weight-0.92280.ckpt\n",
      "1/1 [==============================] - 0s 158ms/step - loss: 0.9376 - rr: 0.8644 - pr: 0.6071 - accuracy: 0.8075 - val_loss: 0.9228 - val_rr: 0.9231 - val_pr: 0.5714 - val_accuracy: 0.7872\n",
      "Epoch 37/50\n",
      "\n",
      "Epoch 00037: val_loss improved from 0.92280 to 0.91197, saving model to ./weight-0.91197.ckpt\n",
      "1/1 [==============================] - 0s 267ms/step - loss: 0.9280 - rr: 0.8644 - pr: 0.6071 - accuracy: 0.8075 - val_loss: 0.9120 - val_rr: 0.9231 - val_pr: 0.5714 - val_accuracy: 0.7872\n",
      "Epoch 38/50\n",
      "\n",
      "Epoch 00038: val_loss improved from 0.91197 to 0.90134, saving model to ./weight-0.90134.ckpt\n",
      "1/1 [==============================] - 0s 184ms/step - loss: 0.9186 - rr: 0.8644 - pr: 0.6071 - accuracy: 0.8075 - val_loss: 0.9013 - val_rr: 0.9231 - val_pr: 0.5714 - val_accuracy: 0.7872\n",
      "Epoch 39/50\n",
      "\n",
      "Epoch 00039: val_loss improved from 0.90134 to 0.89093, saving model to ./weight-0.89093.ckpt\n",
      "1/1 [==============================] - 0s 174ms/step - loss: 0.9092 - rr: 0.8644 - pr: 0.6145 - accuracy: 0.8122 - val_loss: 0.8909 - val_rr: 0.9231 - val_pr: 0.5714 - val_accuracy: 0.7872\n",
      "Epoch 40/50\n",
      "\n",
      "Epoch 00040: val_loss improved from 0.89093 to 0.88029, saving model to ./weight-0.88029.ckpt\n",
      "1/1 [==============================] - 0s 204ms/step - loss: 0.8999 - rr: 0.8644 - pr: 0.6145 - accuracy: 0.8122 - val_loss: 0.8803 - val_rr: 0.9231 - val_pr: 0.5714 - val_accuracy: 0.7872\n",
      "Epoch 41/50\n",
      "\n",
      "Epoch 00041: val_loss improved from 0.88029 to 0.86975, saving model to ./weight-0.86975.ckpt\n",
      "1/1 [==============================] - 0s 356ms/step - loss: 0.8908 - rr: 0.8644 - pr: 0.6145 - accuracy: 0.8122 - val_loss: 0.8697 - val_rr: 0.9231 - val_pr: 0.5714 - val_accuracy: 0.7872\n",
      "Epoch 42/50\n",
      "\n",
      "Epoch 00042: val_loss improved from 0.86975 to 0.85986, saving model to ./weight-0.85986.ckpt\n",
      "1/1 [==============================] - 0s 189ms/step - loss: 0.8820 - rr: 0.8644 - pr: 0.6296 - accuracy: 0.8216 - val_loss: 0.8599 - val_rr: 0.9231 - val_pr: 0.5714 - val_accuracy: 0.7872\n",
      "Epoch 43/50\n",
      "\n",
      "Epoch 00043: val_loss improved from 0.85986 to 0.85071, saving model to ./weight-0.85071.ckpt\n",
      "1/1 [==============================] - 0s 321ms/step - loss: 0.8735 - rr: 0.8814 - pr: 0.6341 - accuracy: 0.8263 - val_loss: 0.8507 - val_rr: 0.9231 - val_pr: 0.5714 - val_accuracy: 0.7872\n",
      "Epoch 44/50\n",
      "\n",
      "Epoch 00044: val_loss improved from 0.85071 to 0.84196, saving model to ./weight-0.84196.ckpt\n",
      "1/1 [==============================] - 0s 186ms/step - loss: 0.8654 - rr: 0.8814 - pr: 0.6341 - accuracy: 0.8263 - val_loss: 0.8420 - val_rr: 0.9231 - val_pr: 0.5714 - val_accuracy: 0.7872\n",
      "Epoch 45/50\n",
      "\n",
      "Epoch 00045: val_loss improved from 0.84196 to 0.83382, saving model to ./weight-0.83382.ckpt\n",
      "1/1 [==============================] - 0s 156ms/step - loss: 0.8575 - rr: 0.8814 - pr: 0.6341 - accuracy: 0.8263 - val_loss: 0.8338 - val_rr: 0.9231 - val_pr: 0.5714 - val_accuracy: 0.7872\n",
      "Epoch 46/50\n",
      "\n",
      "Epoch 00046: val_loss improved from 0.83382 to 0.82626, saving model to ./weight-0.82626.ckpt\n",
      "1/1 [==============================] - 0s 163ms/step - loss: 0.8499 - rr: 0.8814 - pr: 0.6265 - accuracy: 0.8216 - val_loss: 0.8263 - val_rr: 0.9231 - val_pr: 0.5714 - val_accuracy: 0.7872\n",
      "Epoch 47/50\n",
      "\n",
      "Epoch 00047: val_loss improved from 0.82626 to 0.81932, saving model to ./weight-0.81932.ckpt\n",
      "1/1 [==============================] - 0s 165ms/step - loss: 0.8428 - rr: 0.8644 - pr: 0.6145 - accuracy: 0.8122 - val_loss: 0.8193 - val_rr: 0.9231 - val_pr: 0.5714 - val_accuracy: 0.7872\n",
      "Epoch 48/50\n",
      "\n",
      "Epoch 00048: val_loss improved from 0.81932 to 0.81299, saving model to ./weight-0.81299.ckpt\n",
      "1/1 [==============================] - 0s 155ms/step - loss: 0.8359 - rr: 0.8644 - pr: 0.6220 - accuracy: 0.8169 - val_loss: 0.8130 - val_rr: 0.9231 - val_pr: 0.5714 - val_accuracy: 0.7872\n",
      "Epoch 49/50\n",
      "\n",
      "Epoch 00049: val_loss improved from 0.81299 to 0.80734, saving model to ./weight-0.80734.ckpt\n",
      "1/1 [==============================] - 0s 173ms/step - loss: 0.8294 - rr: 0.8644 - pr: 0.6220 - accuracy: 0.8169 - val_loss: 0.8073 - val_rr: 0.9231 - val_pr: 0.5714 - val_accuracy: 0.7872\n",
      "Epoch 50/50\n",
      "\n",
      "Epoch 00050: val_loss improved from 0.80734 to 0.80221, saving model to ./weight-0.80221.ckpt\n",
      "1/1 [==============================] - 0s 172ms/step - loss: 0.8230 - rr: 0.8644 - pr: 0.6220 - accuracy: 0.8169 - val_loss: 0.8022 - val_rr: 0.9231 - val_pr: 0.6000 - val_accuracy: 0.8085\n"
     ]
    }
   ],
   "source": [
    "# 保存模型的文件夹\n",
    "checkpoint_path_weight = \"./weight-{val_loss:.5f}.ckpt\"\n",
    "checkpoint_dir_weight = os.path.dirname(checkpoint_path_weight)\n",
    "\n",
    "# 创建一个回调，保证验证数据集损失最小\n",
    "model_callback = tf.keras.callbacks.ModelCheckpoint(filepath=checkpoint_path_weight, save_weights_only=True,\n",
    "                                                    monitor='val_loss', mode='min', verbose=2, save_best_only=True)\n",
    "# 模型训练\n",
    "weight_model = build_model()\n",
    "# 添加样本权重\n",
    "history_weight = weight_model.fit(train_ds, validation_data=val_ds, epochs=50, class_weight=class_weight, callbacks=[model_callback])"
   ]
  },
  {
   "cell_type": "code",
   "execution_count": 39,
   "metadata": {},
   "outputs": [
    {
     "data": {
      "text/plain": [
       "<tensorflow.python.training.tracking.util.CheckpointLoadStatus at 0x1d133448>"
      ]
     },
     "execution_count": 39,
     "metadata": {},
     "output_type": "execute_result"
    }
   ],
   "source": [
    "# 加载已经训练好的参数\n",
    "model_weight = build_model()\n",
    "best_para_weight = tf.train.latest_checkpoint(checkpoint_dir_weight)\n",
    "model_weight.load_weights(best_para_weight)"
   ]
  },
  {
   "cell_type": "code",
   "execution_count": 40,
   "metadata": {},
   "outputs": [],
   "source": [
    "# 测试数据集的结果\n",
    "y_test_weight = model_weight.predict(test_ds)\n",
    "y_test_last_weight = tf.squeeze(tf.where(y_test_weight<0.5, x=0, y=1))"
   ]
  },
  {
   "cell_type": "code",
   "execution_count": 41,
   "metadata": {},
   "outputs": [
    {
     "data": {
      "image/png": "[encoded data removed]",
      "text/plain": [
       "<Figure size 720x576 with 4 Axes>"
      ]
     },
     "metadata": {
      "needs_background": "light"
     },
     "output_type": "display_data"
    }
   ],
   "source": [
    "# 展示训练结果\n",
    "plot_train_val(history_weight, '方法：增加样本权重')"
   ]
  },
  {
   "cell_type": "markdown",
   "metadata": {},
   "source": [
    "#### 7.2 自定义成本函数：FocalLoss函数\n",
    "\n",
    "自定义的函数除了利用继承相应的类实现以外，还可以直接写成下面函数的形式。如果为了加快运算，可以用tf.function()去修饰定义的函数。 "
   ]
  },
  {
   "cell_type": "markdown",
   "metadata": {},
   "source": [
    "二分类模型的交叉熵成本函数，就是期望模型对类为0的样本的输出结果接近于0，对类为1的样本的输出结果接近1。下面是交叉熵成本函数：\n",
    "\n",
    "$$Loss = -ylogy' - (1-y)log(1-y')$$\n",
    "\n",
    "其中$y,y'$分别为所有样本的真实类别和模型对所有样本的输出值；\n",
    "\n",
    "**FocalLoss**函数从两个方面进行了改进：\n",
    "\n",
    "(1)考虑了样本难分和容易分的情况：例如在类为0的样本中，模型输出结果接近于0的就是容易分的样本，模型结果接近于1的是比较难分的样本。因此在计算成本时，就让难分的样本造成的成本占比相应的增大，容易分的造成的成本占比就适当的减小；注意这里的增大、减小，指的是占比，并不是数值。这部分是通过幂的形式来实现的，具体见下面的函数形式：\n",
    "\n",
    "$$Fo\\_Loss = -y(1-y')^{r}logy' - (1-y)y'^{r}log(1-y')$$\n",
    "\n",
    "其中$r$取0时，上式就是交叉熵函数，推荐值$r=2$；\n",
    "\n",
    "(2)对于样本不均衡的情况：每次训练，模型的成本很大一部分是由样本数较多的类别贡献的，这会使得模型偏向于这一类。因此要在计算成本时，要保证各种类别的成本对总成本的贡献度差不多。这部分的实现是通过为每一类的成本添加一个权重，也就是样本数少的，权重稍微大点。\n",
    "\n",
    "$$Focall\\_Loss = -(1-a)y(1-y')^{r}logy' - a(1-y)y'^{r}log(1-y')$$"
   ]
  },
  {
   "cell_type": "code",
   "execution_count": 42,
   "metadata": {},
   "outputs": [],
   "source": [
    "# 下面给出类别标识为1的类是正类的FocalLoss函数:1类的权重为0.77， 0类的权重为0.23\n",
    "@tf.function()\n",
    "def anfany_FocalLoss(y_true, y_pred, name='FocalLoss', a=0.23, r=2): \n",
    "    loss_1 = - (1 - a) * tf.math.pow(1-y_pred, r) * tf.math.log(y_pred) * tf.cast(y_true, dtype=tf.float32)\n",
    "    loss_0 = - a * tf.math.pow(y_pred, r) * tf.math.log(1-y_pred) * tf.cast((1 - y_true), dtype=tf.float32)\n",
    "    return tf.add(loss_0, loss_1)"
   ]
  },
  {
   "cell_type": "code",
   "execution_count": 43,
   "metadata": {},
   "outputs": [
    {
     "name": "stdout",
     "output_type": "stream",
     "text": [
      "Train for 1 steps, validate for 1 steps\n",
      "Epoch 1/50\n",
      "\n",
      "Epoch 00001: val_loss improved from inf to 0.07051, saving model to ./loss-0.07051.ckpt\n",
      "1/1 [==============================] - 3s 3s/step - loss: 0.0738 - rr: 0.4746 - pr: 0.1892 - accuracy: 0.2911 - val_loss: 0.0705 - val_rr: 0.7692 - val_pr: 0.2500 - val_accuracy: 0.2979\n",
      "Epoch 2/50\n",
      "\n",
      "Epoch 00002: val_loss improved from 0.07051 to 0.06831, saving model to ./loss-0.06831.ckpt\n",
      "1/1 [==============================] - 0s 156ms/step - loss: 0.0714 - rr: 0.5424 - pr: 0.2038 - accuracy: 0.2864 - val_loss: 0.0683 - val_rr: 0.7692 - val_pr: 0.2564 - val_accuracy: 0.3191\n",
      "Epoch 3/50\n",
      "\n",
      "Epoch 00003: val_loss improved from 0.06831 to 0.06638, saving model to ./loss-0.06638.ckpt\n",
      "1/1 [==============================] - 0s 149ms/step - loss: 0.0693 - rr: 0.6610 - pr: 0.2281 - accuracy: 0.2864 - val_loss: 0.0664 - val_rr: 0.7692 - val_pr: 0.2500 - val_accuracy: 0.2979\n",
      "Epoch 4/50\n",
      "\n",
      "Epoch 00004: val_loss improved from 0.06638 to 0.06466, saving model to ./loss-0.06466.ckpt\n",
      "1/1 [==============================] - 0s 185ms/step - loss: 0.0674 - rr: 0.7288 - pr: 0.2389 - accuracy: 0.2817 - val_loss: 0.0647 - val_rr: 0.8462 - val_pr: 0.2683 - val_accuracy: 0.3191\n",
      "Epoch 5/50\n",
      "\n",
      "Epoch 00005: val_loss improved from 0.06466 to 0.06311, saving model to ./loss-0.06311.ckpt\n",
      "1/1 [==============================] - 0s 168ms/step - loss: 0.0656 - rr: 0.8305 - pr: 0.2606 - accuracy: 0.3005 - val_loss: 0.0631 - val_rr: 0.8462 - val_pr: 0.2619 - val_accuracy: 0.2979\n",
      "Epoch 6/50\n",
      "\n",
      "Epoch 00006: val_loss improved from 0.06311 to 0.06172, saving model to ./loss-0.06172.ckpt\n",
      "1/1 [==============================] - 0s 156ms/step - loss: 0.0641 - rr: 0.8814 - pr: 0.2737 - accuracy: 0.3192 - val_loss: 0.0617 - val_rr: 0.9231 - val_pr: 0.2791 - val_accuracy: 0.3191\n",
      "Epoch 7/50\n",
      "\n",
      "Epoch 00007: val_loss improved from 0.06172 to 0.06052, saving model to ./loss-0.06052.ckpt\n",
      "1/1 [==============================] - 0s 141ms/step - loss: 0.0627 - rr: 0.9492 - pr: 0.2887 - accuracy: 0.3380 - val_loss: 0.0605 - val_rr: 0.9231 - val_pr: 0.2791 - val_accuracy: 0.3191\n",
      "Epoch 8/50\n",
      "\n",
      "Epoch 00008: val_loss improved from 0.06052 to 0.05953, saving model to ./loss-0.05953.ckpt\n",
      "1/1 [==============================] - 0s 259ms/step - loss: 0.0615 - rr: 0.9661 - pr: 0.2938 - accuracy: 0.3474 - val_loss: 0.0595 - val_rr: 1.0000 - val_pr: 0.2955 - val_accuracy: 0.3404\n",
      "Epoch 9/50\n",
      "\n",
      "Epoch 00009: val_loss improved from 0.05953 to 0.05867, saving model to ./loss-0.05867.ckpt\n",
      "1/1 [==============================] - 0s 171ms/step - loss: 0.0603 - rr: 0.9831 - pr: 0.3021 - accuracy: 0.3662 - val_loss: 0.0587 - val_rr: 1.0000 - val_pr: 0.3095 - val_accuracy: 0.3830\n",
      "Epoch 10/50\n",
      "\n",
      "Epoch 00010: val_loss improved from 0.05867 to 0.05783, saving model to ./loss-0.05783.ckpt\n",
      "1/1 [==============================] - 0s 156ms/step - loss: 0.0592 - rr: 0.9831 - pr: 0.3152 - accuracy: 0.4038 - val_loss: 0.0578 - val_rr: 1.0000 - val_pr: 0.3095 - val_accuracy: 0.3830\n",
      "Epoch 11/50\n",
      "\n",
      "Epoch 00011: val_loss improved from 0.05783 to 0.05703, saving model to ./loss-0.05703.ckpt\n",
      "1/1 [==============================] - 0s 137ms/step - loss: 0.0582 - rr: 0.9831 - pr: 0.3187 - accuracy: 0.4131 - val_loss: 0.0570 - val_rr: 1.0000 - val_pr: 0.3421 - val_accuracy: 0.4681\n",
      "Epoch 12/50\n",
      "\n",
      "Epoch 00012: val_loss improved from 0.05703 to 0.05627, saving model to ./loss-0.05627.ckpt\n",
      "1/1 [==============================] - 0s 148ms/step - loss: 0.0573 - rr: 0.9661 - pr: 0.3257 - accuracy: 0.4366 - val_loss: 0.0563 - val_rr: 1.0000 - val_pr: 0.3421 - val_accuracy: 0.4681\n",
      "Epoch 13/50\n",
      "\n",
      "Epoch 00013: val_loss improved from 0.05627 to 0.05555, saving model to ./loss-0.05555.ckpt\n",
      "1/1 [==============================] - 0s 155ms/step - loss: 0.0564 - rr: 0.9661 - pr: 0.3353 - accuracy: 0.4601 - val_loss: 0.0555 - val_rr: 1.0000 - val_pr: 0.3611 - val_accuracy: 0.5106\n",
      "Epoch 14/50\n",
      "\n",
      "Epoch 00014: val_loss improved from 0.05555 to 0.05483, saving model to ./loss-0.05483.ckpt\n",
      "1/1 [==============================] - 0s 163ms/step - loss: 0.0556 - rr: 0.9661 - pr: 0.3476 - accuracy: 0.4883 - val_loss: 0.0548 - val_rr: 0.9231 - val_pr: 0.3429 - val_accuracy: 0.4894\n",
      "Epoch 15/50\n",
      "\n",
      "Epoch 00015: val_loss improved from 0.05483 to 0.05415, saving model to ./loss-0.05415.ckpt\n",
      "1/1 [==============================] - 0s 140ms/step - loss: 0.0548 - rr: 0.9831 - pr: 0.3625 - accuracy: 0.5164 - val_loss: 0.0541 - val_rr: 0.9231 - val_pr: 0.3636 - val_accuracy: 0.5319\n",
      "Epoch 16/50\n",
      "\n",
      "Epoch 00016: val_loss improved from 0.05415 to 0.05349, saving model to ./loss-0.05349.ckpt\n",
      "1/1 [==============================] - 0s 189ms/step - loss: 0.0541 - rr: 0.9831 - pr: 0.3791 - accuracy: 0.5493 - val_loss: 0.0535 - val_rr: 0.9231 - val_pr: 0.4000 - val_accuracy: 0.5957\n",
      "Epoch 17/50\n",
      "\n",
      "Epoch 00017: val_loss improved from 0.05349 to 0.05286, saving model to ./loss-0.05286.ckpt\n",
      "1/1 [==============================] - 0s 184ms/step - loss: 0.0533 - rr: 0.9831 - pr: 0.3973 - accuracy: 0.5822 - val_loss: 0.0529 - val_rr: 0.9231 - val_pr: 0.4286 - val_accuracy: 0.6383\n",
      "Epoch 18/50\n",
      "\n",
      "Epoch 00018: val_loss improved from 0.05286 to 0.05225, saving model to ./loss-0.05225.ckpt\n",
      "1/1 [==============================] - 0s 190ms/step - loss: 0.0526 - rr: 0.9661 - pr: 0.4161 - accuracy: 0.6150 - val_loss: 0.0522 - val_rr: 0.9231 - val_pr: 0.4444 - val_accuracy: 0.6596\n",
      "Epoch 19/50\n",
      "\n",
      "Epoch 00019: val_loss improved from 0.05225 to 0.05165, saving model to ./loss-0.05165.ckpt\n",
      "1/1 [==============================] - 0s 151ms/step - loss: 0.0520 - rr: 0.9661 - pr: 0.4318 - accuracy: 0.6385 - val_loss: 0.0516 - val_rr: 0.9231 - val_pr: 0.4615 - val_accuracy: 0.6809\n",
      "Epoch 20/50\n",
      "\n",
      "Epoch 00020: val_loss improved from 0.05165 to 0.05106, saving model to ./loss-0.05106.ckpt\n",
      "1/1 [==============================] - 0s 260ms/step - loss: 0.0513 - rr: 0.9661 - pr: 0.4597 - accuracy: 0.6761 - val_loss: 0.0511 - val_rr: 0.9231 - val_pr: 0.4800 - val_accuracy: 0.7021\n",
      "Epoch 21/50\n",
      "\n",
      "Epoch 00021: val_loss improved from 0.05106 to 0.05051, saving model to ./loss-0.05051.ckpt\n",
      "1/1 [==============================] - 0s 262ms/step - loss: 0.0507 - rr: 0.9661 - pr: 0.4711 - accuracy: 0.6901 - val_loss: 0.0505 - val_rr: 0.9231 - val_pr: 0.4800 - val_accuracy: 0.7021\n",
      "Epoch 22/50\n",
      "\n",
      "Epoch 00022: val_loss improved from 0.05051 to 0.04999, saving model to ./loss-0.04999.ckpt\n",
      "1/1 [==============================] - 0s 163ms/step - loss: 0.0501 - rr: 0.9661 - pr: 0.4831 - accuracy: 0.7042 - val_loss: 0.0500 - val_rr: 0.9231 - val_pr: 0.5000 - val_accuracy: 0.7234\n",
      "Epoch 23/50\n",
      "\n",
      "Epoch 00023: val_loss improved from 0.04999 to 0.04949, saving model to ./loss-0.04949.ckpt\n",
      "1/1 [==============================] - 0s 154ms/step - loss: 0.0496 - rr: 0.9661 - pr: 0.4914 - accuracy: 0.7136 - val_loss: 0.0495 - val_rr: 0.9231 - val_pr: 0.5000 - val_accuracy: 0.7234\n",
      "Epoch 24/50\n",
      "\n",
      "Epoch 00024: val_loss improved from 0.04949 to 0.04902, saving model to ./loss-0.04902.ckpt\n",
      "1/1 [==============================] - 0s 140ms/step - loss: 0.0490 - rr: 0.9661 - pr: 0.5089 - accuracy: 0.7324 - val_loss: 0.0490 - val_rr: 0.9231 - val_pr: 0.5217 - val_accuracy: 0.7447\n",
      "Epoch 25/50\n",
      "\n",
      "Epoch 00025: val_loss improved from 0.04902 to 0.04858, saving model to ./loss-0.04858.ckpt\n",
      "1/1 [==============================] - 0s 154ms/step - loss: 0.0485 - rr: 0.9661 - pr: 0.5229 - accuracy: 0.7465 - val_loss: 0.0486 - val_rr: 0.9231 - val_pr: 0.5455 - val_accuracy: 0.7660\n",
      "Epoch 26/50\n",
      "\n",
      "Epoch 00026: val_loss improved from 0.04858 to 0.04815, saving model to ./loss-0.04815.ckpt\n",
      "1/1 [==============================] - 0s 169ms/step - loss: 0.0480 - rr: 0.9661 - pr: 0.5278 - accuracy: 0.7512 - val_loss: 0.0481 - val_rr: 0.9231 - val_pr: 0.5714 - val_accuracy: 0.7872\n",
      "Epoch 27/50\n",
      "\n",
      "Epoch 00027: val_loss improved from 0.04815 to 0.04774, saving model to ./loss-0.04774.ckpt\n",
      "1/1 [==============================] - 0s 180ms/step - loss: 0.0475 - rr: 0.9661 - pr: 0.5481 - accuracy: 0.7700 - val_loss: 0.0477 - val_rr: 0.9231 - val_pr: 0.5714 - val_accuracy: 0.7872\n",
      "Epoch 28/50\n",
      "\n",
      "Epoch 00028: val_loss improved from 0.04774 to 0.04736, saving model to ./loss-0.04736.ckpt\n",
      "1/1 [==============================] - 0s 155ms/step - loss: 0.0470 - rr: 0.9661 - pr: 0.5534 - accuracy: 0.7746 - val_loss: 0.0474 - val_rr: 0.9231 - val_pr: 0.5714 - val_accuracy: 0.7872\n",
      "Epoch 29/50\n",
      "\n",
      "Epoch 00029: val_loss improved from 0.04736 to 0.04700, saving model to ./loss-0.04700.ckpt\n",
      "1/1 [==============================] - 0s 215ms/step - loss: 0.0465 - rr: 0.9661 - pr: 0.5588 - accuracy: 0.7793 - val_loss: 0.0470 - val_rr: 0.9231 - val_pr: 0.5714 - val_accuracy: 0.7872\n",
      "Epoch 30/50\n",
      "\n",
      "Epoch 00030: val_loss improved from 0.04700 to 0.04667, saving model to ./loss-0.04667.ckpt\n",
      "1/1 [==============================] - 0s 186ms/step - loss: 0.0460 - rr: 0.9661 - pr: 0.5644 - accuracy: 0.7840 - val_loss: 0.0467 - val_rr: 0.9231 - val_pr: 0.5714 - val_accuracy: 0.7872\n",
      "Epoch 31/50\n",
      "\n",
      "Epoch 00031: val_loss improved from 0.04667 to 0.04636, saving model to ./loss-0.04636.ckpt\n",
      "1/1 [==============================] - 0s 166ms/step - loss: 0.0456 - rr: 0.9661 - pr: 0.5644 - accuracy: 0.7840 - val_loss: 0.0464 - val_rr: 0.9231 - val_pr: 0.5714 - val_accuracy: 0.7872\n",
      "Epoch 32/50\n",
      "\n",
      "Epoch 00032: val_loss improved from 0.04636 to 0.04606, saving model to ./loss-0.04606.ckpt\n",
      "1/1 [==============================] - 0s 173ms/step - loss: 0.0451 - rr: 0.9661 - pr: 0.5700 - accuracy: 0.7887 - val_loss: 0.0461 - val_rr: 0.9231 - val_pr: 0.5714 - val_accuracy: 0.7872\n",
      "Epoch 33/50\n",
      "\n",
      "Epoch 00033: val_loss improved from 0.04606 to 0.04579, saving model to ./loss-0.04579.ckpt\n",
      "1/1 [==============================] - 0s 252ms/step - loss: 0.0447 - rr: 0.9661 - pr: 0.5758 - accuracy: 0.7934 - val_loss: 0.0458 - val_rr: 0.9231 - val_pr: 0.6000 - val_accuracy: 0.8085\n",
      "Epoch 34/50\n",
      "\n",
      "Epoch 00034: val_loss improved from 0.04579 to 0.04553, saving model to ./loss-0.04553.ckpt\n",
      "1/1 [==============================] - 0s 173ms/step - loss: 0.0443 - rr: 0.9661 - pr: 0.5758 - accuracy: 0.7934 - val_loss: 0.0455 - val_rr: 0.9231 - val_pr: 0.6000 - val_accuracy: 0.8085\n",
      "Epoch 35/50\n",
      "\n",
      "Epoch 00035: val_loss improved from 0.04553 to 0.04528, saving model to ./loss-0.04528.ckpt\n",
      "1/1 [==============================] - 0s 171ms/step - loss: 0.0439 - rr: 0.9492 - pr: 0.5714 - accuracy: 0.7887 - val_loss: 0.0453 - val_rr: 0.9231 - val_pr: 0.5714 - val_accuracy: 0.7872\n",
      "Epoch 36/50\n",
      "\n",
      "Epoch 00036: val_loss improved from 0.04528 to 0.04506, saving model to ./loss-0.04506.ckpt\n",
      "1/1 [==============================] - 0s 156ms/step - loss: 0.0434 - rr: 0.9492 - pr: 0.5833 - accuracy: 0.7981 - val_loss: 0.0451 - val_rr: 0.9231 - val_pr: 0.5714 - val_accuracy: 0.7872\n",
      "Epoch 37/50\n",
      "\n",
      "Epoch 00037: val_loss improved from 0.04506 to 0.04484, saving model to ./loss-0.04484.ckpt\n",
      "1/1 [==============================] - 0s 155ms/step - loss: 0.0431 - rr: 0.9492 - pr: 0.5833 - accuracy: 0.7981 - val_loss: 0.0448 - val_rr: 0.9231 - val_pr: 0.5714 - val_accuracy: 0.7872\n",
      "Epoch 38/50\n",
      "\n",
      "Epoch 00038: val_loss improved from 0.04484 to 0.04465, saving model to ./loss-0.04465.ckpt\n",
      "1/1 [==============================] - 0s 166ms/step - loss: 0.0427 - rr: 0.9322 - pr: 0.5789 - accuracy: 0.7934 - val_loss: 0.0446 - val_rr: 0.9231 - val_pr: 0.5714 - val_accuracy: 0.7872\n",
      "Epoch 39/50\n",
      "\n",
      "Epoch 00039: val_loss improved from 0.04465 to 0.04447, saving model to ./loss-0.04447.ckpt\n",
      "1/1 [==============================] - 0s 227ms/step - loss: 0.0423 - rr: 0.9322 - pr: 0.5789 - accuracy: 0.7934 - val_loss: 0.0445 - val_rr: 0.9231 - val_pr: 0.5714 - val_accuracy: 0.7872\n",
      "Epoch 40/50\n",
      "\n",
      "Epoch 00040: val_loss improved from 0.04447 to 0.04430, saving model to ./loss-0.04430.ckpt\n",
      "1/1 [==============================] - 0s 167ms/step - loss: 0.0419 - rr: 0.9322 - pr: 0.5914 - accuracy: 0.8028 - val_loss: 0.0443 - val_rr: 0.9231 - val_pr: 0.5714 - val_accuracy: 0.7872\n",
      "Epoch 41/50\n",
      "\n",
      "Epoch 00041: val_loss improved from 0.04430 to 0.04412, saving model to ./loss-0.04412.ckpt\n",
      "1/1 [==============================] - 0s 148ms/step - loss: 0.0416 - rr: 0.9322 - pr: 0.5914 - accuracy: 0.8028 - val_loss: 0.0441 - val_rr: 0.9231 - val_pr: 0.5714 - val_accuracy: 0.7872\n",
      "Epoch 42/50\n",
      "\n",
      "Epoch 00042: val_loss improved from 0.04412 to 0.04396, saving model to ./loss-0.04396.ckpt\n",
      "1/1 [==============================] - 0s 148ms/step - loss: 0.0413 - rr: 0.9322 - pr: 0.5914 - accuracy: 0.8028 - val_loss: 0.0440 - val_rr: 0.9231 - val_pr: 0.5714 - val_accuracy: 0.7872\n",
      "Epoch 43/50\n",
      "\n",
      "Epoch 00043: val_loss improved from 0.04396 to 0.04381, saving model to ./loss-0.04381.ckpt\n",
      "1/1 [==============================] - 0s 163ms/step - loss: 0.0409 - rr: 0.9322 - pr: 0.5914 - accuracy: 0.8028 - val_loss: 0.0438 - val_rr: 0.9231 - val_pr: 0.5714 - val_accuracy: 0.7872\n",
      "Epoch 44/50\n",
      "\n",
      "Epoch 00044: val_loss improved from 0.04381 to 0.04366, saving model to ./loss-0.04366.ckpt\n",
      "1/1 [==============================] - 0s 189ms/step - loss: 0.0406 - rr: 0.9322 - pr: 0.5914 - accuracy: 0.8028 - val_loss: 0.0437 - val_rr: 0.9231 - val_pr: 0.5714 - val_accuracy: 0.7872\n",
      "Epoch 45/50\n",
      "\n",
      "Epoch 00045: val_loss improved from 0.04366 to 0.04352, saving model to ./loss-0.04352.ckpt\n",
      "1/1 [==============================] - 0s 203ms/step - loss: 0.0403 - rr: 0.9322 - pr: 0.5978 - accuracy: 0.8075 - val_loss: 0.0435 - val_rr: 0.9231 - val_pr: 0.5714 - val_accuracy: 0.7872\n",
      "Epoch 46/50\n",
      "\n",
      "Epoch 00046: val_loss improved from 0.04352 to 0.04338, saving model to ./loss-0.04338.ckpt\n",
      "1/1 [==============================] - 0s 162ms/step - loss: 0.0400 - rr: 0.9322 - pr: 0.5978 - accuracy: 0.8075 - val_loss: 0.0434 - val_rr: 0.9231 - val_pr: 0.5714 - val_accuracy: 0.7872\n",
      "Epoch 47/50\n",
      "\n",
      "Epoch 00047: val_loss improved from 0.04338 to 0.04325, saving model to ./loss-0.04325.ckpt\n",
      "1/1 [==============================] - 0s 164ms/step - loss: 0.0397 - rr: 0.9322 - pr: 0.6044 - accuracy: 0.8122 - val_loss: 0.0433 - val_rr: 0.9231 - val_pr: 0.5714 - val_accuracy: 0.7872\n",
      "Epoch 48/50\n",
      "\n",
      "Epoch 00048: val_loss improved from 0.04325 to 0.04311, saving model to ./loss-0.04311.ckpt\n",
      "1/1 [==============================] - 0s 160ms/step - loss: 0.0394 - rr: 0.9322 - pr: 0.6044 - accuracy: 0.8122 - val_loss: 0.0431 - val_rr: 0.9231 - val_pr: 0.5714 - val_accuracy: 0.7872\n",
      "Epoch 49/50\n",
      "\n",
      "Epoch 00049: val_loss improved from 0.04311 to 0.04297, saving model to ./loss-0.04297.ckpt\n",
      "1/1 [==============================] - 0s 156ms/step - loss: 0.0391 - rr: 0.9322 - pr: 0.6111 - accuracy: 0.8169 - val_loss: 0.0430 - val_rr: 0.9231 - val_pr: 0.5714 - val_accuracy: 0.7872\n",
      "Epoch 50/50\n",
      "\n",
      "Epoch 00050: val_loss improved from 0.04297 to 0.04283, saving model to ./loss-0.04283.ckpt\n",
      "1/1 [==============================] - 0s 498ms/step - loss: 0.0388 - rr: 0.9322 - pr: 0.6111 - accuracy: 0.8169 - val_loss: 0.0428 - val_rr: 0.9231 - val_pr: 0.5714 - val_accuracy: 0.7872\n"
     ]
    }
   ],
   "source": [
    "# 保存模型的文件夹\n",
    "checkpoint_path_loss = \"./loss-{val_loss:.5f}.ckpt\"\n",
    "checkpoint_dir_loss = os.path.dirname(checkpoint_path_loss)\n",
    "\n",
    "# 创建一个回调，保证验证数据集损失最小\n",
    "model_callback = tf.keras.callbacks.ModelCheckpoint(filepath=checkpoint_path_loss, save_weights_only=True,\n",
    "                                                    monitor='val_loss', mode='min', verbose=2, save_best_only=True)\n",
    "\n",
    "# 建立自定义成本函数的模型\n",
    "loss_model = build_model(loss_func=anfany_FocalLoss)\n",
    "# 模型训练\n",
    "history_loss = loss_model.fit(train_ds, validation_data=val_ds, epochs=50, callbacks=[model_callback])"
   ]
  },
  {
   "cell_type": "code",
   "execution_count": 44,
   "metadata": {},
   "outputs": [
    {
     "data": {
      "text/plain": [
       "<tensorflow.python.training.tracking.util.CheckpointLoadStatus at 0x1cc90988>"
      ]
     },
     "execution_count": 44,
     "metadata": {},
     "output_type": "execute_result"
    }
   ],
   "source": [
    "# 加载已经训练好的参数\n",
    "model_loss = build_model(loss_func=anfany_FocalLoss)\n",
    "best_para_loss = tf.train.latest_checkpoint(checkpoint_dir_loss)\n",
    "model_loss.load_weights(best_para_loss)"
   ]
  },
  {
   "cell_type": "code",
   "execution_count": 45,
   "metadata": {},
   "outputs": [],
   "source": [
    "# 测试数据集的结果\n",
    "y_test_loss = model_loss.predict(test_ds)\n",
    "y_test_last_loss = tf.squeeze(tf.where(y_test_loss<0.5, x=0, y=1))"
   ]
  },
  {
   "cell_type": "code",
   "execution_count": 46,
   "metadata": {},
   "outputs": [
    {
     "data": {
      "image/png": "[encoded data removed]",
      "text/plain": [
       "<Figure size 720x576 with 4 Axes>"
      ]
     },
     "metadata": {
      "needs_background": "light"
     },
     "output_type": "display_data"
    }
   ],
   "source": [
    "# 展示训练结果\n",
    "plot_train_val(history_loss, '方法：Focall损失函数')"
   ]
  },
  {
   "cell_type": "markdown",
   "metadata": {},
   "source": [
    "#### 7.3 重采样\n",
    "\n",
    "利用重采样解决样本不均衡，就是对样本数较少的类别进行采样，从而增加该类别的样本数。也就是需要更改训练数据集train。"
   ]
  },
  {
   "cell_type": "code",
   "execution_count": 47,
   "metadata": {},
   "outputs": [],
   "source": [
    "# 对数据集中样本较少的类别进行重采样，保证每个类别的样本数据相同\n",
    "def resample_class(data, class_name='target'):\n",
    "    unique_class = data[class_name].unique()\n",
    "    count_dict = {}\n",
    "    for k in unique_class:\n",
    "        count_dict[k] = len(data[data[class_name] == k])\n",
    "    # 各个类别中样本数的最大值\n",
    "    max_count = sorted(count_dict.items(), key=lambda s:-s[1])[0][1]\n",
    "    \n",
    "    # 开始针对各个类别重采样\n",
    "    for kk in count_dict:\n",
    "        if count_dict[kk] != max_count:\n",
    "            # 需要重采样的数\n",
    "            need_count = max_count - count_dict[kk]\n",
    "            # 采样范围\n",
    "            all_data = data[data[class_name] == kk]\n",
    "            # 采样得到的数据\n",
    "            sample_data = all_data.sample(need_count, random_state=1, replace=True)\n",
    "            # 需要和原来的数据结合\n",
    "            data = pd.concat([sample_data, data], axis=0)\n",
    "    return data\n",
    "\n",
    "# 重新采样后的数据\n",
    "train_re = resample_class(train)"
   ]
  },
  {
   "cell_type": "code",
   "execution_count": 48,
   "metadata": {},
   "outputs": [
    {
     "name": "stdout",
     "output_type": "stream",
     "text": [
      "训练数据 条数:308 其中1:154  0:154  \n"
     ]
    }
   ],
   "source": [
    "print('训练数据 条数:%3d' % len(train_re), '其中%s' % (judge(train_re)))"
   ]
  },
  {
   "cell_type": "code",
   "execution_count": 49,
   "metadata": {},
   "outputs": [],
   "source": [
    "# 加入到数据管道中\n",
    "batch_size = 300\n",
    "train_ds_resample = df_to_dataset(train_re, batch_size=batch_size)"
   ]
  },
  {
   "cell_type": "code",
   "execution_count": 50,
   "metadata": {},
   "outputs": [
    {
     "name": "stdout",
     "output_type": "stream",
     "text": [
      "Train for 2 steps, validate for 1 steps\n",
      "Epoch 1/50\n",
      "1/2 [==============>...............] - ETA: 1s - loss: 0.7480 - rr: 0.9122 - pr: 0.4754 - accuracy: 0.4600\n",
      "Epoch 00001: val_loss improved from inf to 0.80218, saving model to ./resample-0.80218.ckpt\n",
      "2/2 [==============================] - 3s 1s/step - loss: 0.7240 - rr: 0.9091 - pr: 0.4811 - accuracy: 0.4643 - val_loss: 0.8022 - val_rr: 1.0000 - val_pr: 0.2889 - val_accuracy: 0.3191\n",
      "Epoch 2/50\n",
      "1/2 [==============>...............] - ETA: 0s - loss: 0.7318 - rr: 0.9281 - pr: 0.4965 - accuracy: 0.4833\n",
      "Epoch 00002: val_loss improved from 0.80218 to 0.79119, saving model to ./resample-0.79119.ckpt\n",
      "2/2 [==============================] - 0s 95ms/step - loss: 0.7667 - rr: 0.9286 - pr: 0.4864 - accuracy: 0.4740 - val_loss: 0.7912 - val_rr: 1.0000 - val_pr: 0.2889 - val_accuracy: 0.3191\n",
      "Epoch 3/50\n",
      "1/2 [==============>...............] - ETA: 0s - loss: 0.7253 - rr: 0.9400 - pr: 0.4913 - accuracy: 0.4833\n",
      "Epoch 00003: val_loss improved from 0.79119 to 0.77803, saving model to ./resample-0.77803.ckpt\n",
      "2/2 [==============================] - 0s 83ms/step - loss: 0.7229 - rr: 0.9351 - pr: 0.4898 - accuracy: 0.4805 - val_loss: 0.7780 - val_rr: 1.0000 - val_pr: 0.2889 - val_accuracy: 0.3191\n",
      "Epoch 4/50\n",
      "1/2 [==============>...............] - ETA: 0s - loss: 0.7171 - rr: 0.9467 - pr: 0.4913 - accuracy: 0.4833\n",
      "Epoch 00004: val_loss improved from 0.77803 to 0.76592, saving model to ./resample-0.76592.ckpt\n",
      "2/2 [==============================] - 0s 91ms/step - loss: 0.7070 - rr: 0.9481 - pr: 0.4932 - accuracy: 0.4870 - val_loss: 0.7659 - val_rr: 1.0000 - val_pr: 0.2889 - val_accuracy: 0.3191\n",
      "Epoch 5/50\n",
      "1/2 [==============>...............] - ETA: 0s - loss: 0.7109 - rr: 0.9456 - pr: 0.4860 - accuracy: 0.4833\n",
      "Epoch 00005: val_loss improved from 0.76592 to 0.75689, saving model to ./resample-0.75689.ckpt\n",
      "2/2 [==============================] - 0s 110ms/step - loss: 0.6797 - rr: 0.9481 - pr: 0.4966 - accuracy: 0.4935 - val_loss: 0.7569 - val_rr: 1.0000 - val_pr: 0.2955 - val_accuracy: 0.3404\n",
      "Epoch 6/50\n",
      "1/2 [==============>...............] - ETA: 0s - loss: 0.7006 - rr: 0.9470 - pr: 0.5018 - accuracy: 0.5000\n",
      "Epoch 00006: val_loss improved from 0.75689 to 0.74907, saving model to ./resample-0.74907.ckpt\n",
      "2/2 [==============================] - 0s 114ms/step - loss: 0.7088 - rr: 0.9481 - pr: 0.4983 - accuracy: 0.4968 - val_loss: 0.7491 - val_rr: 0.9231 - val_pr: 0.2791 - val_accuracy: 0.3191\n",
      "Epoch 7/50\n",
      "1/2 [==============>...............] - ETA: 0s - loss: 0.6949 - rr: 0.9474 - pr: 0.5053 - accuracy: 0.5033\n",
      "Epoch 00007: val_loss improved from 0.74907 to 0.74007, saving model to ./resample-0.74007.ckpt\n",
      "2/2 [==============================] - 0s 91ms/step - loss: 0.6894 - rr: 0.9481 - pr: 0.5000 - accuracy: 0.5000 - val_loss: 0.7401 - val_rr: 0.9231 - val_pr: 0.2791 - val_accuracy: 0.3191\n",
      "Epoch 8/50\n",
      "1/2 [==============>...............] - ETA: 0s - loss: 0.6883 - rr: 0.9527 - pr: 0.5054 - accuracy: 0.5167\n",
      "Epoch 00008: val_loss improved from 0.74007 to 0.73162, saving model to ./resample-0.73162.ckpt\n",
      "2/2 [==============================] - 0s 220ms/step - loss: 0.6827 - rr: 0.9481 - pr: 0.5105 - accuracy: 0.5195 - val_loss: 0.7316 - val_rr: 0.9231 - val_pr: 0.2791 - val_accuracy: 0.3191\n",
      "Epoch 9/50\n",
      "1/2 [==============>...............] - ETA: 0s - loss: 0.6808 - rr: 0.9467 - pr: 0.5182 - accuracy: 0.5333\n",
      "Epoch 00009: val_loss improved from 0.73162 to 0.72372, saving model to ./resample-0.72372.ckpt\n",
      "2/2 [==============================] - 0s 86ms/step - loss: 0.6916 - rr: 0.9481 - pr: 0.5177 - accuracy: 0.5325 - val_loss: 0.7237 - val_rr: 0.9231 - val_pr: 0.2927 - val_accuracy: 0.3617\n",
      "Epoch 10/50\n",
      "1/2 [==============>...............] - ETA: 0s - loss: 0.6772 - rr: 0.9257 - pr: 0.5170 - accuracy: 0.5367\n",
      "Epoch 00010: val_loss improved from 0.72372 to 0.71611, saving model to ./resample-0.71611.ckpt\n",
      "2/2 [==============================] - 0s 170ms/step - loss: 0.6562 - rr: 0.9286 - pr: 0.5238 - accuracy: 0.5422 - val_loss: 0.7161 - val_rr: 0.9231 - val_pr: 0.3000 - val_accuracy: 0.3830\n",
      "Epoch 11/50\n",
      "1/2 [==============>...............] - ETA: 0s - loss: 0.6691 - rr: 0.9467 - pr: 0.5358 - accuracy: 0.5633\n",
      "Epoch 00011: val_loss improved from 0.71611 to 0.70883, saving model to ./resample-0.70883.ckpt\n",
      "2/2 [==============================] - 0s 94ms/step - loss: 0.6763 - rr: 0.9416 - pr: 0.5331 - accuracy: 0.5584 - val_loss: 0.7088 - val_rr: 0.9231 - val_pr: 0.3077 - val_accuracy: 0.4043\n",
      "Epoch 12/50\n",
      "1/2 [==============>...............] - ETA: 0s - loss: 0.6656 - rr: 0.9595 - pr: 0.5338 - accuracy: 0.5667\n",
      "Epoch 00012: val_loss improved from 0.70883 to 0.70189, saving model to ./resample-0.70189.ckpt\n",
      "2/2 [==============================] - 0s 99ms/step - loss: 0.6404 - rr: 0.9610 - pr: 0.5421 - accuracy: 0.5747 - val_loss: 0.7019 - val_rr: 0.9231 - val_pr: 0.3077 - val_accuracy: 0.4043\n",
      "Epoch 13/50\n",
      "1/2 [==============>...............] - ETA: 0s - loss: 0.6574 - rr: 0.9608 - pr: 0.5485 - accuracy: 0.5767\n",
      "Epoch 00013: val_loss improved from 0.70189 to 0.69421, saving model to ./resample-0.69421.ckpt\n",
      "2/2 [==============================] - 0s 119ms/step - loss: 0.6628 - rr: 0.9610 - pr: 0.5441 - accuracy: 0.5779 - val_loss: 0.6942 - val_rr: 0.9231 - val_pr: 0.3243 - val_accuracy: 0.4468\n",
      "Epoch 14/50\n",
      "1/2 [==============>...............] - ETA: 0s - loss: 0.6525 - rr: 0.9866 - pr: 0.5611 - accuracy: 0.6100\n",
      "Epoch 00014: val_loss improved from 0.69421 to 0.68573, saving model to ./resample-0.68573.ckpt\n",
      "2/2 [==============================] - 0s 82ms/step - loss: 0.6464 - rr: 0.9805 - pr: 0.5634 - accuracy: 0.6104 - val_loss: 0.6857 - val_rr: 0.9231 - val_pr: 0.3429 - val_accuracy: 0.4894\n",
      "Epoch 15/50\n",
      "1/2 [==============>...............] - ETA: 0s - loss: 0.6471 - rr: 0.9799 - pr: 0.5771 - accuracy: 0.6333\n",
      "Epoch 00015: val_loss improved from 0.68573 to 0.67805, saving model to ./resample-0.67805.ckpt\n",
      "2/2 [==============================] - 0s 82ms/step - loss: 0.6359 - rr: 0.9805 - pr: 0.5808 - accuracy: 0.6364 - val_loss: 0.6780 - val_rr: 0.9231 - val_pr: 0.3636 - val_accuracy: 0.5319\n",
      "Epoch 16/50\n",
      "1/2 [==============>...............] - ETA: 0s - loss: 0.6421 - rr: 0.9866 - pr: 0.6000 - accuracy: 0.6667\n",
      "Epoch 00016: val_loss improved from 0.67805 to 0.67095, saving model to ./resample-0.67095.ckpt\n",
      "2/2 [==============================] - 0s 95ms/step - loss: 0.6224 - rr: 0.9805 - pr: 0.6040 - accuracy: 0.6688 - val_loss: 0.6709 - val_rr: 0.9231 - val_pr: 0.4000 - val_accuracy: 0.5957\n",
      "Epoch 17/50\n",
      "1/2 [==============>...............] - ETA: 0s - loss: 0.6365 - rr: 0.9799 - pr: 0.6266 - accuracy: 0.7000\n",
      "Epoch 00017: val_loss improved from 0.67095 to 0.66449, saving model to ./resample-0.66449.ckpt\n",
      "2/2 [==============================] - 0s 87ms/step - loss: 0.6172 - rr: 0.9805 - pr: 0.6292 - accuracy: 0.7013 - val_loss: 0.6645 - val_rr: 0.9231 - val_pr: 0.4138 - val_accuracy: 0.6170\n",
      "Epoch 18/50\n",
      "1/2 [==============>...............] - ETA: 0s - loss: 0.6295 - rr: 0.9800 - pr: 0.6419 - accuracy: 0.7167\n",
      "Epoch 00018: val_loss improved from 0.66449 to 0.65818, saving model to ./resample-0.65818.ckpt\n",
      "2/2 [==============================] - 0s 95ms/step - loss: 0.6288 - rr: 0.9805 - pr: 0.6481 - accuracy: 0.7240 - val_loss: 0.6582 - val_rr: 0.9231 - val_pr: 0.4286 - val_accuracy: 0.6383\n",
      "Epoch 19/50\n",
      "1/2 [==============>...............] - ETA: 0s - loss: 0.6221 - rr: 0.9804 - pr: 0.6696 - accuracy: 0.7433\n",
      "Epoch 00019: val_loss improved from 0.65818 to 0.65011, saving model to ./resample-0.65011.ckpt\n",
      "2/2 [==============================] - 0s 91ms/step - loss: 0.6469 - rr: 0.9805 - pr: 0.6623 - accuracy: 0.7403 - val_loss: 0.6501 - val_rr: 0.9231 - val_pr: 0.4444 - val_accuracy: 0.6596\n",
      "Epoch 20/50\n",
      "1/2 [==============>...............] - ETA: 0s - loss: 0.6201 - rr: 0.9799 - pr: 0.6697 - accuracy: 0.7500\n",
      "Epoch 00020: val_loss improved from 0.65011 to 0.64117, saving model to ./resample-0.64117.ckpt\n",
      "2/2 [==============================] - 0s 91ms/step - loss: 0.5948 - rr: 0.9805 - pr: 0.6771 - accuracy: 0.7565 - val_loss: 0.6412 - val_rr: 0.9231 - val_pr: 0.4800 - val_accuracy: 0.7021\n",
      "Epoch 21/50\n",
      "1/2 [==============>...............] - ETA: 0s - loss: 0.6141 - rr: 0.9797 - pr: 0.6776 - accuracy: 0.7600\n",
      "Epoch 00021: val_loss improved from 0.64117 to 0.63336, saving model to ./resample-0.63336.ckpt\n",
      "2/2 [==============================] - 0s 86ms/step - loss: 0.5893 - rr: 0.9805 - pr: 0.6864 - accuracy: 0.7662 - val_loss: 0.6334 - val_rr: 0.9231 - val_pr: 0.5000 - val_accuracy: 0.7234\n",
      "Epoch 22/50\n",
      "1/2 [==============>...............] - ETA: 0s - loss: 0.6069 - rr: 0.9800 - pr: 0.7067 - accuracy: 0.7867\n",
      "Epoch 00022: val_loss improved from 0.63336 to 0.62590, saving model to ./resample-0.62590.ckpt\n",
      "2/2 [==============================] - 0s 86ms/step - loss: 0.5973 - rr: 0.9805 - pr: 0.7089 - accuracy: 0.7890 - val_loss: 0.6259 - val_rr: 0.9231 - val_pr: 0.5000 - val_accuracy: 0.7234\n",
      "Epoch 23/50\n",
      "1/2 [==============>...............] - ETA: 0s - loss: 0.6004 - rr: 0.9799 - pr: 0.7087 - accuracy: 0.7900\n",
      "Epoch 00023: val_loss improved from 0.62590 to 0.61854, saving model to ./resample-0.61854.ckpt\n",
      "2/2 [==============================] - 0s 99ms/step - loss: 0.5956 - rr: 0.9805 - pr: 0.7156 - accuracy: 0.7955 - val_loss: 0.6185 - val_rr: 0.9231 - val_pr: 0.5000 - val_accuracy: 0.7234\n",
      "Epoch 24/50\n",
      "1/2 [==============>...............] - ETA: 0s - loss: 0.5941 - rr: 0.9803 - pr: 0.7268 - accuracy: 0.8033\n",
      "Epoch 00024: val_loss improved from 0.61854 to 0.61033, saving model to ./resample-0.61033.ckpt\n",
      "2/2 [==============================] - 0s 95ms/step - loss: 0.5872 - rr: 0.9805 - pr: 0.7260 - accuracy: 0.8052 - val_loss: 0.6103 - val_rr: 0.9231 - val_pr: 0.5217 - val_accuracy: 0.7447\n",
      "Epoch 25/50\n",
      "1/2 [==============>...............] - ETA: 0s - loss: 0.5847 - rr: 0.9804 - pr: 0.7353 - accuracy: 0.8100\n",
      "Epoch 00025: val_loss improved from 0.61033 to 0.59935, saving model to ./resample-0.59935.ckpt\n",
      "2/2 [==============================] - 0s 128ms/step - loss: 0.6111 - rr: 0.9805 - pr: 0.7295 - accuracy: 0.8084 - val_loss: 0.5993 - val_rr: 0.9231 - val_pr: 0.5217 - val_accuracy: 0.7447\n",
      "Epoch 26/50\n",
      "1/2 [==============>...............] - ETA: 0s - loss: 0.5803 - rr: 0.9801 - pr: 0.7400 - accuracy: 0.8167\n",
      "Epoch 00026: val_loss improved from 0.59935 to 0.58655, saving model to ./resample-0.58655.ckpt\n",
      "2/2 [==============================] - 0s 87ms/step - loss: 0.5676 - rr: 0.9805 - pr: 0.7366 - accuracy: 0.8149 - val_loss: 0.5866 - val_rr: 0.9231 - val_pr: 0.5455 - val_accuracy: 0.7660\n",
      "Epoch 27/50\n",
      "1/2 [==============>...............] - ETA: 0s - loss: 0.5724 - rr: 0.9799 - pr: 0.7487 - accuracy: 0.8267\n",
      "Epoch 00027: val_loss improved from 0.58655 to 0.57418, saving model to ./resample-0.57418.ckpt\n",
      "2/2 [==============================] - 0s 83ms/step - loss: 0.5660 - rr: 0.9805 - pr: 0.7512 - accuracy: 0.8279 - val_loss: 0.5742 - val_rr: 0.9231 - val_pr: 0.5714 - val_accuracy: 0.7872\n",
      "Epoch 28/50\n",
      "1/2 [==============>...............] - ETA: 0s - loss: 0.5649 - rr: 0.9799 - pr: 0.7526 - accuracy: 0.8300\n",
      "Epoch 00028: val_loss improved from 0.57418 to 0.56279, saving model to ./resample-0.56279.ckpt\n",
      "2/2 [==============================] - 0s 87ms/step - loss: 0.5575 - rr: 0.9805 - pr: 0.7588 - accuracy: 0.8344 - val_loss: 0.5628 - val_rr: 0.9231 - val_pr: 0.5714 - val_accuracy: 0.7872\n",
      "Epoch 29/50\n",
      "1/2 [==============>...............] - ETA: 0s - loss: 0.5573 - rr: 0.9800 - pr: 0.7778 - accuracy: 0.8500\n",
      "Epoch 00029: val_loss improved from 0.56279 to 0.55180, saving model to ./resample-0.55180.ckpt\n",
      "2/2 [==============================] - 0s 91ms/step - loss: 0.5488 - rr: 0.9805 - pr: 0.7784 - accuracy: 0.8506 - val_loss: 0.5518 - val_rr: 0.9231 - val_pr: 0.5714 - val_accuracy: 0.7872\n",
      "Epoch 30/50\n",
      "1/2 [==============>...............] - ETA: 0s - loss: 0.5477 - rr: 0.9799 - pr: 0.7892 - accuracy: 0.8600\n",
      "Epoch 00030: val_loss improved from 0.55180 to 0.54157, saving model to ./resample-0.54157.ckpt\n",
      "2/2 [==============================] - 0s 117ms/step - loss: 0.5636 - rr: 0.9805 - pr: 0.7906 - accuracy: 0.8604 - val_loss: 0.5416 - val_rr: 0.9231 - val_pr: 0.5714 - val_accuracy: 0.7872\n",
      "Epoch 31/50\n",
      "1/2 [==============>...............] - ETA: 0s - loss: 0.5436 - rr: 0.9733 - pr: 0.7892 - accuracy: 0.8567\n",
      "Epoch 00031: val_loss improved from 0.54157 to 0.53170, saving model to ./resample-0.53170.ckpt\n",
      "2/2 [==============================] - 0s 96ms/step - loss: 0.5110 - rr: 0.9740 - pr: 0.7937 - accuracy: 0.8604 - val_loss: 0.5317 - val_rr: 0.9231 - val_pr: 0.5714 - val_accuracy: 0.7872\n",
      "Epoch 32/50\n",
      "1/2 [==============>...............] - ETA: 0s - loss: 0.5333 - rr: 0.9597 - pr: 0.7989 - accuracy: 0.8600\n",
      "Epoch 00032: val_loss improved from 0.53170 to 0.52194, saving model to ./resample-0.52194.ckpt\n",
      "2/2 [==============================] - 0s 82ms/step - loss: 0.5330 - rr: 0.9610 - pr: 0.8000 - accuracy: 0.8604 - val_loss: 0.5219 - val_rr: 0.9231 - val_pr: 0.5714 - val_accuracy: 0.7872\n",
      "Epoch 33/50\n",
      "1/2 [==============>...............] - ETA: 0s - loss: 0.5251 - rr: 0.9603 - pr: 0.8056 - accuracy: 0.8633\n",
      "Epoch 00033: val_loss improved from 0.52194 to 0.51195, saving model to ./resample-0.51195.ckpt\n",
      "2/2 [==============================] - 0s 91ms/step - loss: 0.5247 - rr: 0.9610 - pr: 0.8087 - accuracy: 0.8669 - val_loss: 0.5120 - val_rr: 0.9231 - val_pr: 0.5714 - val_accuracy: 0.7872\n",
      "Epoch 34/50\n",
      "1/2 [==============>...............] - ETA: 0s - loss: 0.5154 - rr: 0.9600 - pr: 0.8136 - accuracy: 0.8700\n",
      "Epoch 00034: val_loss improved from 0.51195 to 0.50112, saving model to ./resample-0.50112.ckpt\n",
      "2/2 [==============================] - 0s 104ms/step - loss: 0.5328 - rr: 0.9610 - pr: 0.8087 - accuracy: 0.8669 - val_loss: 0.5011 - val_rr: 0.9231 - val_pr: 0.6000 - val_accuracy: 0.8085\n",
      "Epoch 35/50\n",
      "1/2 [==============>...............] - ETA: 0s - loss: 0.5045 - rr: 0.9603 - pr: 0.8192 - accuracy: 0.8733\n",
      "Epoch 00035: val_loss improved from 0.50112 to 0.49017, saving model to ./resample-0.49017.ckpt\n",
      "2/2 [==============================] - 0s 100ms/step - loss: 0.5564 - rr: 0.9610 - pr: 0.8087 - accuracy: 0.8669 - val_loss: 0.4902 - val_rr: 0.9231 - val_pr: 0.6000 - val_accuracy: 0.8085\n",
      "Epoch 36/50\n",
      "1/2 [==============>...............] - ETA: 0s - loss: 0.5006 - rr: 0.9605 - pr: 0.8156 - accuracy: 0.8700\n",
      "Epoch 00036: val_loss improved from 0.49017 to 0.47855, saving model to ./resample-0.47855.ckpt\n",
      "2/2 [==============================] - 0s 85ms/step - loss: 0.5011 - rr: 0.9610 - pr: 0.8132 - accuracy: 0.8701 - val_loss: 0.4786 - val_rr: 0.9231 - val_pr: 0.6000 - val_accuracy: 0.8085\n",
      "Epoch 37/50\n",
      "1/2 [==============>...............] - ETA: 0s - loss: 0.4889 - rr: 0.9404 - pr: 0.8304 - accuracy: 0.8733\n",
      "Epoch 00037: val_loss improved from 0.47855 to 0.46670, saving model to ./resample-0.46670.ckpt\n",
      "2/2 [==============================] - 0s 87ms/step - loss: 0.5511 - rr: 0.9351 - pr: 0.8229 - accuracy: 0.8669 - val_loss: 0.4667 - val_rr: 0.9231 - val_pr: 0.6000 - val_accuracy: 0.8085\n",
      "Epoch 38/50\n",
      "1/2 [==============>...............] - ETA: 0s - loss: 0.4844 - rr: 0.9338 - pr: 0.8443 - accuracy: 0.8800\n",
      "Epoch 00038: val_loss improved from 0.46670 to 0.45524, saving model to ./resample-0.45524.ckpt\n",
      "2/2 [==============================] - 0s 87ms/step - loss: 0.5182 - rr: 0.9351 - pr: 0.8324 - accuracy: 0.8734 - val_loss: 0.4552 - val_rr: 0.9231 - val_pr: 0.6000 - val_accuracy: 0.8085\n",
      "Epoch 39/50\n",
      "1/2 [==============>...............] - ETA: 0s - loss: 0.4836 - rr: 0.9133 - pr: 0.8253 - accuracy: 0.8600\n",
      "Epoch 00039: val_loss improved from 0.45524 to 0.44490, saving model to ./resample-0.44490.ckpt\n",
      "2/2 [==============================] - 0s 93ms/step - loss: 0.4556 - rr: 0.9156 - pr: 0.8294 - accuracy: 0.8636 - val_loss: 0.4449 - val_rr: 0.9231 - val_pr: 0.6667 - val_accuracy: 0.8511\n",
      "Epoch 40/50\n",
      "1/2 [==============>...............] - ETA: 0s - loss: 0.4795 - rr: 0.8859 - pr: 0.8302 - accuracy: 0.8533\n",
      "Epoch 00040: val_loss improved from 0.44490 to 0.43659, saving model to ./resample-0.43659.ckpt\n",
      "2/2 [==============================] - 0s 108ms/step - loss: 0.4341 - rr: 0.8896 - pr: 0.8354 - accuracy: 0.8571 - val_loss: 0.4366 - val_rr: 0.9231 - val_pr: 0.7059 - val_accuracy: 0.8723\n",
      "Epoch 41/50\n",
      "1/2 [==============>...............] - ETA: 0s - loss: 0.4674 - rr: 0.8750 - pr: 0.8418 - accuracy: 0.8533\n",
      "Epoch 00041: val_loss improved from 0.43659 to 0.42862, saving model to ./resample-0.42862.ckpt\n",
      "2/2 [==============================] - 0s 94ms/step - loss: 0.5007 - rr: 0.8766 - pr: 0.8385 - accuracy: 0.8539 - val_loss: 0.4286 - val_rr: 0.9231 - val_pr: 0.7059 - val_accuracy: 0.8723\n",
      "Epoch 42/50\n",
      "1/2 [==============>...............] - ETA: 0s - loss: 0.4653 - rr: 0.8503 - pr: 0.8333 - accuracy: 0.8433\n",
      "Epoch 00042: val_loss improved from 0.42862 to 0.42176, saving model to ./resample-0.42176.ckpt\n",
      "2/2 [==============================] - 0s 148ms/step - loss: 0.4462 - rr: 0.8571 - pr: 0.8354 - accuracy: 0.8442 - val_loss: 0.4218 - val_rr: 0.9231 - val_pr: 0.7059 - val_accuracy: 0.8723\n",
      "Epoch 43/50\n",
      "1/2 [==============>...............] - ETA: 0s - loss: 0.4613 - rr: 0.8533 - pr: 0.8312 - accuracy: 0.8400\n",
      "Epoch 00043: val_loss improved from 0.42176 to 0.41755, saving model to ./resample-0.41755.ckpt\n",
      "2/2 [==============================] - 0s 102ms/step - loss: 0.4171 - rr: 0.8571 - pr: 0.8354 - accuracy: 0.8442 - val_loss: 0.4175 - val_rr: 0.9231 - val_pr: 0.7059 - val_accuracy: 0.8723\n",
      "Epoch 44/50\n",
      "1/2 [==============>...............] - ETA: 0s - loss: 0.4523 - rr: 0.8533 - pr: 0.8312 - accuracy: 0.8400\n",
      "Epoch 00044: val_loss improved from 0.41755 to 0.41423, saving model to ./resample-0.41423.ckpt\n",
      "2/2 [==============================] - 1s 311ms/step - loss: 0.4444 - rr: 0.8571 - pr: 0.8354 - accuracy: 0.8442 - val_loss: 0.4142 - val_rr: 0.9231 - val_pr: 0.7059 - val_accuracy: 0.8723\n",
      "Epoch 45/50\n",
      "1/2 [==============>...............] - ETA: 0s - loss: 0.4468 - rr: 0.8725 - pr: 0.8333 - accuracy: 0.8500\n",
      "Epoch 00045: val_loss improved from 0.41423 to 0.41219, saving model to ./resample-0.41219.ckpt\n",
      "2/2 [==============================] - 0s 99ms/step - loss: 0.4260 - rr: 0.8701 - pr: 0.8375 - accuracy: 0.8506 - val_loss: 0.4122 - val_rr: 0.9231 - val_pr: 0.7059 - val_accuracy: 0.8723\n",
      "Epoch 46/50\n",
      "1/2 [==============>...............] - ETA: 0s - loss: 0.4427 - rr: 0.8750 - pr: 0.8313 - accuracy: 0.8467\n",
      "Epoch 00046: val_loss improved from 0.41219 to 0.41093, saving model to ./resample-0.41093.ckpt\n",
      "2/2 [==============================] - 0s 86ms/step - loss: 0.3928 - rr: 0.8701 - pr: 0.8323 - accuracy: 0.8474 - val_loss: 0.4109 - val_rr: 0.9231 - val_pr: 0.6667 - val_accuracy: 0.8511\n",
      "Epoch 47/50\n",
      "1/2 [==============>...............] - ETA: 0s - loss: 0.4332 - rr: 0.8684 - pr: 0.8354 - accuracy: 0.8467\n",
      "Epoch 00047: val_loss improved from 0.41093 to 0.40852, saving model to ./resample-0.40852.ckpt\n",
      "2/2 [==============================] - 0s 87ms/step - loss: 0.4280 - rr: 0.8701 - pr: 0.8323 - accuracy: 0.8474 - val_loss: 0.4085 - val_rr: 0.9231 - val_pr: 0.6667 - val_accuracy: 0.8511\n",
      "Epoch 48/50\n",
      "1/2 [==============>...............] - ETA: 0s - loss: 0.4248 - rr: 0.8933 - pr: 0.8428 - accuracy: 0.8633\n",
      "Epoch 00048: val_loss improved from 0.40852 to 0.40587, saving model to ./resample-0.40587.ckpt\n",
      "2/2 [==============================] - 0s 91ms/step - loss: 0.4595 - rr: 0.8896 - pr: 0.8354 - accuracy: 0.8571 - val_loss: 0.4059 - val_rr: 0.9231 - val_pr: 0.6316 - val_accuracy: 0.8298\n",
      "Epoch 49/50\n",
      "1/2 [==============>...............] - ETA: 0s - loss: 0.4193 - rr: 0.8926 - pr: 0.8365 - accuracy: 0.8600\n",
      "Epoch 00049: val_loss improved from 0.40587 to 0.40346, saving model to ./resample-0.40346.ckpt\n",
      "2/2 [==============================] - 0s 86ms/step - loss: 0.4609 - rr: 0.8896 - pr: 0.8303 - accuracy: 0.8539 - val_loss: 0.4035 - val_rr: 0.9231 - val_pr: 0.6316 - val_accuracy: 0.8298\n",
      "Epoch 50/50\n",
      "1/2 [==============>...............] - ETA: 0s - loss: 0.4144 - rr: 0.9133 - pr: 0.8303 - accuracy: 0.8633\n",
      "Epoch 00050: val_loss improved from 0.40346 to 0.40262, saving model to ./resample-0.40262.ckpt\n",
      "2/2 [==============================] - 0s 91ms/step - loss: 0.4588 - rr: 0.9091 - pr: 0.8333 - accuracy: 0.8636 - val_loss: 0.4026 - val_rr: 0.9231 - val_pr: 0.6316 - val_accuracy: 0.8298\n"
     ]
    }
   ],
   "source": [
    "# 建立模型\n",
    "# 保存模型的文件夹\n",
    "checkpoint_path_resample = \"./resample-{val_loss:.5f}.ckpt\"\n",
    "checkpoint_dir_resample = os.path.dirname(checkpoint_path_resample)\n",
    "\n",
    "# 创建一个回调，保证验证数据集损失最小\n",
    "model_callback = tf.keras.callbacks.ModelCheckpoint(filepath=checkpoint_path_resample, save_weights_only=True,\n",
    "                                                    monitor='val_loss', mode='min', verbose=2, save_best_only=True)\n",
    "# 模型训练\n",
    "resample_model = build_model()\n",
    "# 添加样本权重\n",
    "history_resample = resample_model.fit(train_ds_resample, validation_data=val_ds, epochs=50, callbacks=[model_callback])"
   ]
  },
  {
   "cell_type": "code",
   "execution_count": 51,
   "metadata": {},
   "outputs": [
    {
     "data": {
      "text/plain": [
       "<tensorflow.python.training.tracking.util.CheckpointLoadStatus at 0x223ba4c8>"
      ]
     },
     "execution_count": 51,
     "metadata": {},
     "output_type": "execute_result"
    }
   ],
   "source": [
    "# 加载已经训练好的参数\n",
    "model_resample = build_model()\n",
    "best_para_resample = tf.train.latest_checkpoint(checkpoint_dir_resample)\n",
    "model_resample.load_weights(best_para_resample)"
   ]
  },
  {
   "cell_type": "code",
   "execution_count": 52,
   "metadata": {},
   "outputs": [],
   "source": [
    "# 测试数据集的结果\n",
    "y_test_resample = model_resample.predict(test_ds)\n",
    "y_test_last_resample = tf.squeeze(tf.where(y_test_resample<0.5, x=0, y=1))"
   ]
  },
  {
   "cell_type": "code",
   "execution_count": 60,
   "metadata": {},
   "outputs": [
    {
     "data": {
      "image/png": "[encoded data removed]",
      "text/plain": [
       "<Figure size 720x576 with 4 Axes>"
      ]
     },
     "metadata": {
      "needs_background": "light"
     },
     "output_type": "display_data"
    }
   ],
   "source": [
    "# 展示训练结果\n",
    "plot_train_val(history_resample, '方法：重采样')"
   ]
  },
  {
   "cell_type": "markdown",
   "metadata": {},
   "source": [
    "### 8、不同方法的结果对比"
   ]
  },
  {
   "cell_type": "code",
   "execution_count": 54,
   "metadata": {},
   "outputs": [],
   "source": [
    "# 计算召回率Recall，精确率Precision，准确率Accuracy\n",
    "def get_rate(labels, predictions, pasign=1): # 类为1的是正类\n",
    "    # 获取混淆矩阵，\n",
    "    matrix = tf.math.confusion_matrix(labels, predictions)\n",
    "    # 召回率\n",
    "    rr = [matrix[pasign, pasign].numpy(), tf.reduce_sum(matrix, 1)[pasign].numpy()]\n",
    "    # 精确率\n",
    "    pr =[matrix[pasign, pasign].numpy(), tf.reduce_sum(matrix, 0)[pasign].numpy()]\n",
    "    # 准确率\n",
    "    acc = [tf.reduce_sum(tf.cast(tf.equal(labels, predictions), dtype=tf.int32)).numpy() ,len(labels)]\n",
    "    return matrix, rr, pr, acc"
   ]
  },
  {
   "cell_type": "code",
   "execution_count": 55,
   "metadata": {},
   "outputs": [],
   "source": [
    "# 绘制混淆矩阵，输出召回率，精确率，以及准确率\n",
    "def plot_cm_rate(labels, predictions, name, ax):\n",
    "    # 计算\n",
    "    matrix, rr, pr, acc = get_rate(labels, predictions)\n",
    "    sns.heatmap(matrix, annot=True, fmt=\"d\", cbar=False, ax=ax[0], linewidths=1, square='equal',\n",
    "                linecolor='white', annot_kws={'fontsize':13}, xticklabels=['未患病', '患病'], yticklabels=['未患病', '患病'])\n",
    "    ax[0].set_title('混淆矩阵', fontsize=13)\n",
    "    ax[0].set_ylabel('实际类别', fontsize=13)\n",
    "    ax[0].set_xlabel('预测类别', fontsize=13)\n",
    "    ax[1].set_axis_off()\n",
    "    ax[1].set_aspect('equal')\n",
    "    for y, j, f in zip(np.linspace(0.7, 0.3, 3), [rr, pr, acc], ['召回率', '精确率', '准确率']):\n",
    "        ax[1].text(0.0, y, r'%s：$%s/%s=%.4f$' % (f, j[0], j[1], j[0]/j[1]), fontsize=13)\n",
    "    ax[0].text(1.9,-0.1, name, fontsize=15, color='red')\n",
    "    return ax"
   ]
  },
  {
   "cell_type": "code",
   "execution_count": 56,
   "metadata": {},
   "outputs": [
    {
     "data": {
      "text/plain": [
       "<Figure size 432x288 with 0 Axes>"
      ]
     },
     "metadata": {},
     "output_type": "display_data"
    },
    {
     "data": {
      "image/png": "[encoded data removed]",
      "text/plain": [
       "<Figure size 1152x648 with 8 Axes>"
      ]
     },
     "metadata": {
      "needs_background": "light"
     },
     "output_type": "display_data"
    }
   ],
   "source": [
    "# 集成图片\n",
    "def plot_method():\n",
    "    fig = plt.figure()\n",
    "    fig, ax = plt.subplots(2, 4, figsize=(16, 9))\n",
    "    plot_cm_rate(test['target'].values, y_test_last_base, '方法：Baseline模型', ax[0, :2])\n",
    "    plot_cm_rate(test['target'].values, y_test_last_weight, '方法：增加样本权重', ax[0, 2:])\n",
    "    plot_cm_rate(test['target'].values, y_test_last_loss, '方法：Focall损失函数', ax[1, :2])\n",
    "    plot_cm_rate(test['target'].values, y_test_last_resample, '方法：重采样', ax[1, 2:])\n",
    "    plt.suptitle('正类：患病', fontsize=16)  \n",
    "    fig.savefig('method.png', dpi=200, bbox_inches = 'tight')\n",
    "plot_method()    "
   ]
  }
 ],
 "metadata": {
  "kernelspec": {
   "display_name": "TensorFlow2",
   "language": "python",
   "name": "tf2"
  },
  "language_info": {
   "codemirror_mode": {
    "name": "ipython",
    "version": 3
   },
   "file_extension": ".py",
   "mimetype": "text/x-python",
   "name": "python",
   "nbconvert_exporter": "python",
   "pygments_lexer": "ipython3",
   "version": "3.7.6"
  }
 },
 "nbformat": 4,
 "nbformat_minor": 4
}
